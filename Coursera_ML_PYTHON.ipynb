{
  "nbformat": 4,
  "nbformat_minor": 0,
  "metadata": {
    "colab": {
      "name": "Coursera_ML_PYTHON.ipynb",
      "provenance": [],
      "collapsed_sections": [],
      "authorship_tag": "ABX9TyP+MDHqb1XrftnFEbED8AV/"
    },
    "kernelspec": {
      "name": "python3",
      "display_name": "Python 3"
    }
  },
  "cells": [
    {
      "cell_type": "markdown",
      "metadata": {
        "id": "OctjdY3MzOnS",
        "colab_type": "text"
      },
      "source": [
        "Importing Package"
      ]
    },
    {
      "cell_type": "code",
      "metadata": {
        "id": "Rdn2XsgOw1y8",
        "colab_type": "code",
        "colab": {
          "base_uri": "https://localhost:8080/",
          "height": 71
        },
        "outputId": "b3751ad4-20e0-48e5-ee44-5c63d27b8a1c"
      },
      "source": [
        "import itertools\n",
        "import numpy as np\n",
        "import matplotlib.pyplot as plt\n",
        "from matplotlib.ticker import NullFormatter\n",
        "import pandas as pd\n",
        "import numpy as np\n",
        "import matplotlib.ticker as ticker\n",
        "from sklearn import preprocessing\n",
        "import seaborn as sns\n",
        "%matplotlib inline"
      ],
      "execution_count": 3,
      "outputs": [
        {
          "output_type": "stream",
          "text": [
            "/usr/local/lib/python3.6/dist-packages/statsmodels/tools/_testing.py:19: FutureWarning: pandas.util.testing is deprecated. Use the functions in the public API at pandas.testing instead.\n",
            "  import pandas.util.testing as tm\n"
          ],
          "name": "stderr"
        }
      ]
    },
    {
      "cell_type": "markdown",
      "metadata": {
        "id": "APTKCp7Kzahl",
        "colab_type": "text"
      },
      "source": [
        "Uploading tools"
      ]
    },
    {
      "cell_type": "code",
      "metadata": {
        "id": "K0a3aKZkxEb0",
        "colab_type": "code",
        "colab": {
          "resources": {
            "http://localhost:8080/nbextensions/google.colab/files.js": {
              "data": "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",
              "ok": true,
              "headers": [
                [
                  "content-type",
                  "application/javascript"
                ]
              ],
              "status": 200,
              "status_text": ""
            }
          },
          "base_uri": "https://localhost:8080/",
          "height": 109
        },
        "outputId": "2ff86d10-51b5-4881-f851-d6cb3beea0a7"
      },
      "source": [
        "from google.colab import files\n",
        "files.upload()"
      ],
      "execution_count": 1,
      "outputs": [
        {
          "output_type": "display_data",
          "data": {
            "text/html": [
              "\n",
              "     <input type=\"file\" id=\"files-293eaadb-f7ea-4eb2-bc2d-9728ff18730c\" name=\"files[]\" multiple disabled\n",
              "        style=\"border:none\" />\n",
              "     <output id=\"result-293eaadb-f7ea-4eb2-bc2d-9728ff18730c\">\n",
              "      Upload widget is only available when the cell has been executed in the\n",
              "      current browser session. Please rerun this cell to enable.\n",
              "      </output>\n",
              "      <script src=\"/nbextensions/google.colab/files.js\"></script> "
            ],
            "text/plain": [
              "<IPython.core.display.HTML object>"
            ]
          },
          "metadata": {
            "tags": []
          }
        },
        {
          "output_type": "stream",
          "text": [
            "Saving loan_train.csv to loan_train.csv\n"
          ],
          "name": "stdout"
        },
        {
          "output_type": "execute_result",
          "data": {
            "text/plain": [
              "{'loan_train.csv': b',Unnamed: 0,loan_status,Principal,terms,effective_date,due_date,age,education,Gender\\n0,0,PAIDOFF,1000,30,9/8/2016,10/7/2016,45,High School or Below,male\\n2,2,PAIDOFF,1000,30,9/8/2016,10/7/2016,33,Bechalor,female\\n3,3,PAIDOFF,1000,15,9/8/2016,9/22/2016,27,college,male\\n4,4,PAIDOFF,1000,30,9/9/2016,10/8/2016,28,college,female\\n6,6,PAIDOFF,1000,30,9/9/2016,10/8/2016,29,college,male\\n7,7,PAIDOFF,1000,30,9/9/2016,10/8/2016,36,college,male\\n8,8,PAIDOFF,1000,30,9/9/2016,10/8/2016,28,college,male\\n9,9,PAIDOFF,800,15,9/10/2016,9/24/2016,26,college,male\\n10,10,PAIDOFF,300,7,9/10/2016,9/16/2016,29,college,male\\n11,11,PAIDOFF,1000,15,9/10/2016,10/9/2016,39,High School or Below,male\\n12,12,PAIDOFF,1000,30,9/10/2016,10/9/2016,26,college,male\\n13,13,PAIDOFF,900,7,9/10/2016,9/16/2016,26,college,female\\n14,14,PAIDOFF,1000,7,9/10/2016,9/16/2016,27,High School or Below,male\\n15,15,PAIDOFF,800,15,9/10/2016,9/24/2016,26,college,male\\n16,16,PAIDOFF,1000,30,9/10/2016,10/9/2016,40,High School or Below,male\\n17,17,PAIDOFF,1000,15,9/10/2016,9/24/2016,32,High School or Below,male\\n18,18,PAIDOFF,1000,30,9/10/2016,10/9/2016,32,High School or Below,male\\n19,19,PAIDOFF,800,30,9/10/2016,10/9/2016,26,college,male\\n20,20,PAIDOFF,1000,30,9/10/2016,10/9/2016,26,college,male\\n22,22,PAIDOFF,1000,30,9/10/2016,10/9/2016,25,High School or Below,male\\n23,23,PAIDOFF,1000,15,9/10/2016,9/24/2016,26,college,male\\n25,25,PAIDOFF,1000,30,9/10/2016,10/9/2016,29,High School or Below,male\\n26,26,PAIDOFF,800,15,9/10/2016,9/24/2016,39,Bechalor,male\\n27,27,PAIDOFF,1000,15,9/10/2016,9/24/2016,34,Bechalor,male\\n28,28,PAIDOFF,1000,30,9/11/2016,10/10/2016,31,college,male\\n29,29,PAIDOFF,1000,30,9/11/2016,10/10/2016,33,college,male\\n30,30,PAIDOFF,800,15,9/11/2016,9/25/2016,33,High School or Below,male\\n31,31,PAIDOFF,1000,30,9/11/2016,10/10/2016,37,college,male\\n32,32,PAIDOFF,1000,30,9/11/2016,10/10/2016,27,college,male\\n33,33,PAIDOFF,1000,30,9/11/2016,10/10/2016,37,college,male\\n34,34,PAIDOFF,800,15,9/11/2016,9/25/2016,33,college,male\\n36,36,PAIDOFF,1000,30,9/11/2016,10/10/2016,27,High School or Below,male\\n39,39,PAIDOFF,1000,30,9/11/2016,10/10/2016,21,Bechalor,male\\n40,40,PAIDOFF,1000,15,9/11/2016,9/25/2016,32,college,female\\n41,41,PAIDOFF,800,15,9/11/2016,9/25/2016,30,college,male\\n42,42,PAIDOFF,1000,7,9/11/2016,9/24/2016,31,Bechalor,male\\n43,43,PAIDOFF,1000,15,9/11/2016,9/25/2016,30,college,male\\n44,44,PAIDOFF,1000,15,9/11/2016,9/25/2016,24,Bechalor,female\\n45,45,PAIDOFF,800,7,9/11/2016,9/17/2016,35,High School or Below,male\\n46,46,PAIDOFF,1000,30,9/11/2016,10/10/2016,22,High School or Below,male\\n47,47,PAIDOFF,1000,30,9/11/2016,10/10/2016,32,college,male\\n49,49,PAIDOFF,800,15,9/11/2016,9/25/2016,50,High School or Below,male\\n51,51,PAIDOFF,1000,30,9/11/2016,10/10/2016,35,Bechalor,female\\n52,52,PAIDOFF,800,15,9/11/2016,9/25/2016,35,Bechalor,female\\n53,53,PAIDOFF,1000,30,9/11/2016,10/10/2016,34,High School or Below,male\\n54,54,PAIDOFF,1000,30,9/11/2016,10/10/2016,21,High School or Below,male\\n55,55,PAIDOFF,1000,15,9/11/2016,9/25/2016,25,college,male\\n56,56,PAIDOFF,1000,30,9/11/2016,10/10/2016,27,High School or Below,male\\n57,57,PAIDOFF,1000,30,9/11/2016,10/10/2016,26,Bechalor,male\\n58,58,PAIDOFF,800,15,9/11/2016,9/25/2016,44,High School or Below,female\\n59,59,PAIDOFF,800,15,9/11/2016,9/25/2016,39,Master or Above,male\\n60,60,PAIDOFF,1000,30,9/11/2016,10/10/2016,34,Bechalor,male\\n62,62,PAIDOFF,1000,30,9/11/2016,10/10/2016,34,High School or Below,male\\n63,63,PAIDOFF,1000,30,9/11/2016,10/10/2016,45,college,male\\n65,65,PAIDOFF,900,15,9/11/2016,9/25/2016,28,college,male\\n66,66,PAIDOFF,1000,30,9/11/2016,10/10/2016,28,Bechalor,male\\n67,67,PAIDOFF,1000,30,9/11/2016,10/10/2016,37,High School or Below,male\\n69,69,PAIDOFF,1000,30,9/11/2016,10/10/2016,43,Bechalor,male\\n70,70,PAIDOFF,800,15,9/11/2016,9/25/2016,29,college,male\\n71,71,PAIDOFF,800,15,9/11/2016,9/25/2016,29,High School or Below,male\\n72,72,PAIDOFF,1000,30,9/11/2016,10/10/2016,33,Bechalor,female\\n73,73,PAIDOFF,1000,15,9/11/2016,9/25/2016,34,college,male\\n74,74,PAIDOFF,1000,15,9/11/2016,9/25/2016,25,college,male\\n75,75,PAIDOFF,1000,30,9/11/2016,10/10/2016,30,High School or Below,male\\n77,77,PAIDOFF,1000,30,9/11/2016,10/10/2016,35,college,male\\n79,79,PAIDOFF,1000,30,9/11/2016,10/10/2016,44,High School or Below,female\\n80,80,PAIDOFF,1000,30,9/11/2016,10/10/2016,28,High School or Below,male\\n81,81,PAIDOFF,1000,7,9/11/2016,9/17/2016,25,college,male\\n82,82,PAIDOFF,1000,15,9/11/2016,9/25/2016,29,college,male\\n83,83,PAIDOFF,800,15,9/11/2016,9/25/2016,33,college,male\\n86,86,PAIDOFF,1000,30,9/11/2016,10/10/2016,24,High School or Below,female\\n87,87,PAIDOFF,1000,30,9/11/2016,10/10/2016,27,college,female\\n89,89,PAIDOFF,800,15,9/11/2016,9/25/2016,46,High School or Below,female\\n90,90,PAIDOFF,800,15,9/11/2016,9/25/2016,34,college,female\\n92,92,PAIDOFF,800,15,9/11/2016,9/25/2016,38,High School or Below,male\\n93,93,PAIDOFF,800,15,9/11/2016,9/25/2016,27,High School or Below,male\\n94,94,PAIDOFF,1000,30,9/11/2016,10/10/2016,33,High School or Below,male\\n95,95,PAIDOFF,1000,30,9/11/2016,10/10/2016,36,college,male\\n97,97,PAIDOFF,1000,30,9/11/2016,10/10/2016,34,college,male\\n98,98,PAIDOFF,1000,30,9/11/2016,10/10/2016,22,High School or Below,male\\n99,99,PAIDOFF,1000,30,9/11/2016,10/10/2016,31,Bechalor,female\\n101,101,PAIDOFF,800,15,9/11/2016,9/25/2016,38,college,male\\n102,102,PAIDOFF,1000,30,9/11/2016,10/10/2016,30,college,male\\n103,103,PAIDOFF,1000,15,9/11/2016,9/25/2016,45,High School or Below,male\\n104,104,PAIDOFF,1000,15,9/11/2016,9/25/2016,35,college,male\\n106,106,PAIDOFF,1000,30,9/11/2016,10/10/2016,31,High School or Below,male\\n107,107,PAIDOFF,1000,30,9/11/2016,10/10/2016,31,High School or Below,male\\n108,108,PAIDOFF,1000,30,9/11/2016,10/10/2016,28,college,male\\n109,109,PAIDOFF,1000,7,9/11/2016,9/24/2016,29,college,male\\n110,110,PAIDOFF,800,15,9/11/2016,9/25/2016,29,college,male\\n111,111,PAIDOFF,1000,30,9/11/2016,11/9/2016,27,college,female\\n112,112,PAIDOFF,1000,30,9/11/2016,10/10/2016,27,college,male\\n113,113,PAIDOFF,1000,30,9/11/2016,10/10/2016,33,college,male\\n114,114,PAIDOFF,1000,30,9/11/2016,10/10/2016,28,college,male\\n115,115,PAIDOFF,1000,15,9/11/2016,9/25/2016,25,High School or Below,male\\n116,116,PAIDOFF,1000,30,9/11/2016,10/10/2016,40,college,male\\n117,117,PAIDOFF,1000,30,9/11/2016,10/10/2016,23,High School or Below,male\\n118,118,PAIDOFF,1000,30,9/11/2016,10/10/2016,35,Bechalor,male\\n119,119,PAIDOFF,800,15,9/11/2016,9/25/2016,24,college,male\\n120,120,PAIDOFF,1000,30,9/11/2016,10/10/2016,34,college,male\\n121,121,PAIDOFF,1000,30,9/11/2016,10/10/2016,22,High School or Below,male\\n122,122,PAIDOFF,1000,15,9/11/2016,10/25/2016,20,college,male\\n123,123,PAIDOFF,1000,15,9/11/2016,9/25/2016,23,college,male\\n124,124,PAIDOFF,1000,30,9/11/2016,10/10/2016,33,college,male\\n125,125,PAIDOFF,1000,30,9/11/2016,10/10/2016,26,college,male\\n126,126,PAIDOFF,1000,15,9/11/2016,9/25/2016,28,High School or Below,male\\n127,127,PAIDOFF,800,15,9/11/2016,9/25/2016,43,High School or Below,male\\n128,128,PAIDOFF,1000,15,9/11/2016,9/25/2016,34,Bechalor,male\\n129,129,PAIDOFF,1000,30,9/11/2016,10/10/2016,38,Bechalor,male\\n130,130,PAIDOFF,1000,15,9/11/2016,9/25/2016,26,High School or Below,male\\n131,131,PAIDOFF,800,15,9/11/2016,9/25/2016,43,High School or Below,male\\n132,132,PAIDOFF,1000,30,9/11/2016,10/10/2016,26,High School or Below,male\\n133,133,PAIDOFF,1000,30,9/11/2016,10/10/2016,33,college,female\\n134,134,PAIDOFF,800,15,9/11/2016,9/25/2016,24,college,male\\n135,135,PAIDOFF,1000,30,9/11/2016,10/10/2016,30,High School or Below,male\\n136,136,PAIDOFF,800,15,9/11/2016,9/25/2016,32,High School or Below,female\\n137,137,PAIDOFF,1000,15,9/11/2016,10/25/2016,22,college,male\\n138,138,PAIDOFF,1000,15,9/11/2016,9/25/2016,47,High School or Below,male\\n139,139,PAIDOFF,1000,30,9/11/2016,10/10/2016,20,High School or Below,male\\n140,140,PAIDOFF,1000,30,9/11/2016,10/10/2016,28,High School or Below,male\\n141,141,PAIDOFF,800,15,9/11/2016,9/25/2016,35,college,male\\n143,143,PAIDOFF,800,15,9/11/2016,9/25/2016,33,college,female\\n144,144,PAIDOFF,1000,30,9/11/2016,10/10/2016,30,High School or Below,male\\n145,145,PAIDOFF,1000,15,9/11/2016,9/25/2016,31,college,male\\n146,146,PAIDOFF,1000,30,9/11/2016,11/9/2016,26,college,female\\n148,148,PAIDOFF,1000,15,9/12/2016,9/26/2016,26,Bechalor,male\\n149,149,PAIDOFF,800,15,9/12/2016,9/26/2016,35,Bechalor,male\\n151,151,PAIDOFF,800,15,9/12/2016,9/26/2016,23,college,male\\n152,152,PAIDOFF,500,15,9/12/2016,9/26/2016,23,college,female\\n153,153,PAIDOFF,1000,15,9/12/2016,9/26/2016,30,college,male\\n154,154,PAIDOFF,1000,30,9/12/2016,10/11/2016,34,college,male\\n155,155,PAIDOFF,1000,30,9/12/2016,10/11/2016,36,High School or Below,female\\n157,157,PAIDOFF,800,15,9/12/2016,9/26/2016,29,High School or Below,male\\n158,158,PAIDOFF,1000,15,9/12/2016,9/26/2016,28,college,female\\n159,159,PAIDOFF,1000,30,9/12/2016,10/11/2016,27,High School or Below,male\\n160,160,PAIDOFF,1000,15,9/12/2016,9/26/2016,24,High School or Below,male\\n161,161,PAIDOFF,800,15,9/12/2016,9/26/2016,31,Bechalor,male\\n162,162,PAIDOFF,1000,30,9/12/2016,10/11/2016,28,High School or Below,male\\n163,163,PAIDOFF,1000,15,9/12/2016,9/26/2016,27,college,female\\n164,164,PAIDOFF,1000,15,9/12/2016,9/26/2016,25,High School or Below,male\\n165,165,PAIDOFF,1000,30,9/12/2016,11/10/2016,24,High School or Below,male\\n166,166,PAIDOFF,1000,30,9/12/2016,10/11/2016,28,college,male\\n168,168,PAIDOFF,1000,15,9/12/2016,9/26/2016,35,High School or Below,male\\n170,170,PAIDOFF,1000,15,9/12/2016,9/26/2016,38,High School or Below,male\\n171,171,PAIDOFF,1000,30,9/12/2016,10/11/2016,29,college,male\\n172,172,PAIDOFF,800,15,9/12/2016,9/26/2016,35,High School or Below,male\\n173,173,PAIDOFF,1000,30,9/12/2016,10/11/2016,24,college,male\\n174,174,PAIDOFF,800,15,9/12/2016,9/26/2016,39,High School or Below,male\\n175,175,PAIDOFF,800,15,9/12/2016,9/26/2016,25,college,male\\n176,176,PAIDOFF,1000,30,9/12/2016,10/11/2016,38,High School or Below,male\\n177,177,PAIDOFF,1000,30,9/12/2016,10/11/2016,30,college,male\\n178,178,PAIDOFF,1000,30,9/12/2016,10/11/2016,21,High School or Below,male\\n180,180,PAIDOFF,1000,15,9/12/2016,9/26/2016,31,High School or Below,female\\n181,181,PAIDOFF,300,7,9/12/2016,9/18/2016,29,High School or Below,male\\n182,182,PAIDOFF,1000,30,9/12/2016,10/11/2016,35,High School or Below,male\\n183,183,PAIDOFF,800,15,9/12/2016,9/26/2016,30,High School or Below,male\\n184,184,PAIDOFF,1000,30,9/12/2016,10/11/2016,27,High School or Below,male\\n185,185,PAIDOFF,1000,30,9/12/2016,10/11/2016,31,High School or Below,female\\n187,187,PAIDOFF,1000,15,9/12/2016,9/26/2016,34,High School or Below,male\\n188,188,PAIDOFF,800,15,9/12/2016,9/26/2016,28,college,male\\n189,189,PAIDOFF,800,15,9/12/2016,9/26/2016,42,college,male\\n190,190,PAIDOFF,1000,30,9/12/2016,10/11/2016,32,college,male\\n191,191,PAIDOFF,1000,30,9/12/2016,10/11/2016,30,High School or Below,male\\n192,192,PAIDOFF,1000,15,9/12/2016,9/26/2016,25,High School or Below,female\\n193,193,PAIDOFF,1000,30,9/12/2016,10/11/2016,27,High School or Below,female\\n194,194,PAIDOFF,800,15,9/12/2016,9/26/2016,21,college,male\\n195,195,PAIDOFF,1000,30,9/12/2016,10/11/2016,24,college,male\\n197,197,PAIDOFF,1000,15,9/12/2016,9/26/2016,40,college,male\\n198,198,PAIDOFF,1000,30,9/12/2016,10/11/2016,29,High School or Below,male\\n200,200,PAIDOFF,1000,15,9/12/2016,9/26/2016,30,college,male\\n201,201,PAIDOFF,1000,30,9/12/2016,10/11/2016,26,High School or Below,female\\n203,203,PAIDOFF,800,15,9/12/2016,9/26/2016,27,college,male\\n204,204,PAIDOFF,1000,30,9/12/2016,10/11/2016,20,college,male\\n205,205,PAIDOFF,1000,7,9/12/2016,9/18/2016,26,Bechalor,female\\n206,206,PAIDOFF,1000,30,9/12/2016,11/10/2016,26,college,male\\n207,207,PAIDOFF,1000,30,9/12/2016,10/11/2016,27,college,male\\n208,208,PAIDOFF,300,7,9/12/2016,9/18/2016,23,High School or Below,male\\n209,209,PAIDOFF,1000,30,9/12/2016,10/11/2016,39,High School or Below,male\\n210,210,PAIDOFF,1000,15,9/12/2016,9/26/2016,27,High School or Below,male\\n211,211,PAIDOFF,1000,30,9/12/2016,10/11/2016,30,High School or Below,male\\n212,212,PAIDOFF,1000,30,9/12/2016,10/11/2016,33,High School or Below,female\\n213,213,PAIDOFF,1000,30,9/12/2016,10/11/2016,27,High School or Below,male\\n214,214,PAIDOFF,1000,30,9/12/2016,10/11/2016,35,High School or Below,male\\n215,215,PAIDOFF,1000,30,9/12/2016,11/10/2016,29,college,female\\n216,216,PAIDOFF,1000,15,9/12/2016,9/26/2016,50,High School or Below,male\\n217,217,PAIDOFF,800,15,9/12/2016,9/26/2016,31,High School or Below,female\\n218,218,PAIDOFF,1000,15,9/12/2016,9/26/2016,31,High School or Below,male\\n219,219,PAIDOFF,1000,30,9/12/2016,10/11/2016,29,High School or Below,male\\n220,220,PAIDOFF,1000,15,9/12/2016,9/26/2016,35,college,male\\n221,221,PAIDOFF,1000,30,9/12/2016,10/11/2016,39,college,male\\n223,223,PAIDOFF,1000,15,9/12/2016,9/26/2016,30,High School or Below,male\\n224,224,PAIDOFF,1000,30,9/12/2016,10/11/2016,33,Bechalor,male\\n225,225,PAIDOFF,1000,30,9/12/2016,10/11/2016,26,High School or Below,male\\n226,226,PAIDOFF,1000,15,9/12/2016,9/26/2016,25,High School or Below,male\\n227,227,PAIDOFF,800,15,9/12/2016,9/26/2016,37,Bechalor,male\\n228,228,PAIDOFF,800,15,9/12/2016,9/26/2016,26,High School or Below,male\\n229,229,PAIDOFF,800,15,9/12/2016,9/26/2016,26,college,male\\n230,230,PAIDOFF,1000,15,9/12/2016,10/26/2016,27,college,male\\n231,231,PAIDOFF,1000,7,9/12/2016,9/25/2016,34,college,female\\n232,232,PAIDOFF,1000,30,9/12/2016,10/11/2016,37,college,male\\n233,233,PAIDOFF,1000,30,9/12/2016,10/11/2016,36,High School or Below,male\\n234,234,PAIDOFF,800,15,9/12/2016,9/26/2016,33,High School or Below,male\\n235,235,PAIDOFF,1000,30,9/12/2016,10/11/2016,30,High School or Below,male\\n237,237,PAIDOFF,800,15,9/12/2016,9/26/2016,36,High School or Below,male\\n238,238,PAIDOFF,1000,15,9/12/2016,10/11/2016,29,college,male\\n240,240,PAIDOFF,1000,30,9/12/2016,10/11/2016,32,High School or Below,male\\n241,241,PAIDOFF,1000,15,9/12/2016,9/26/2016,29,High School or Below,female\\n242,242,PAIDOFF,800,15,9/12/2016,9/26/2016,36,Bechalor,male\\n243,243,PAIDOFF,800,15,9/12/2016,9/26/2016,30,High School or Below,female\\n244,244,PAIDOFF,1000,7,9/13/2016,9/19/2016,31,college,male\\n245,245,PAIDOFF,1000,30,9/13/2016,10/12/2016,19,High School or Below,female\\n246,246,PAIDOFF,800,15,9/13/2016,9/27/2016,26,college,male\\n247,247,PAIDOFF,800,15,9/13/2016,9/27/2016,34,High School or Below,male\\n248,248,PAIDOFF,1000,30,9/13/2016,10/12/2016,35,High School or Below,male\\n249,249,PAIDOFF,1000,15,9/13/2016,9/27/2016,35,Bechalor,female\\n250,250,PAIDOFF,800,15,9/13/2016,9/27/2016,38,college,male\\n253,253,PAIDOFF,500,7,9/13/2016,9/19/2016,22,High School or Below,male\\n254,254,PAIDOFF,1000,30,9/13/2016,10/12/2016,32,college,male\\n255,255,PAIDOFF,1000,30,9/13/2016,10/12/2016,31,college,male\\n256,256,PAIDOFF,800,15,9/13/2016,9/27/2016,28,college,male\\n257,257,PAIDOFF,1000,15,9/13/2016,9/27/2016,37,college,female\\n258,258,PAIDOFF,1000,7,9/13/2016,9/19/2016,25,college,male\\n259,259,PAIDOFF,1000,30,9/13/2016,10/12/2016,19,High School or Below,male\\n260,260,PAIDOFF,800,15,9/13/2016,9/27/2016,51,college,male\\n261,261,PAIDOFF,1000,15,9/13/2016,9/27/2016,29,High School or Below,male\\n262,262,PAIDOFF,800,30,9/13/2016,10/12/2016,23,college,female\\n263,263,PAIDOFF,1000,15,9/13/2016,9/27/2016,30,High School or Below,male\\n265,265,PAIDOFF,1000,15,9/13/2016,9/27/2016,34,Bechalor,female\\n266,266,PAIDOFF,800,15,9/13/2016,9/27/2016,31,Bechalor,female\\n267,267,PAIDOFF,1000,15,9/14/2016,9/28/2016,24,High School or Below,male\\n268,268,PAIDOFF,1000,30,9/14/2016,10/13/2016,42,High School or Below,male\\n269,269,PAIDOFF,800,30,9/14/2016,10/13/2016,40,college,female\\n270,270,PAIDOFF,1000,30,9/14/2016,10/13/2016,29,High School or Below,male\\n271,271,PAIDOFF,1000,30,9/14/2016,10/13/2016,32,college,female\\n272,272,PAIDOFF,1000,30,9/14/2016,11/12/2016,28,college,male\\n273,273,PAIDOFF,1000,30,9/14/2016,10/13/2016,35,High School or Below,male\\n274,274,PAIDOFF,1000,30,9/14/2016,10/13/2016,30,Bechalor,male\\n275,275,PAIDOFF,800,15,9/14/2016,9/28/2016,44,college,male\\n276,276,PAIDOFF,800,15,9/14/2016,9/28/2016,37,High School or Below,male\\n277,277,PAIDOFF,1000,30,9/14/2016,10/13/2016,31,college,male\\n278,278,PAIDOFF,800,15,9/14/2016,9/28/2016,36,college,male\\n279,279,PAIDOFF,800,30,9/14/2016,10/13/2016,31,college,male\\n280,280,PAIDOFF,800,15,9/14/2016,9/28/2016,42,High School or Below,male\\n281,281,PAIDOFF,1000,15,9/14/2016,9/28/2016,28,Bechalor,male\\n282,282,PAIDOFF,1000,30,9/14/2016,10/13/2016,30,college,male\\n283,283,PAIDOFF,1000,30,9/14/2016,10/13/2016,30,High School or Below,male\\n284,284,PAIDOFF,1000,15,9/14/2016,9/28/2016,24,Bechalor,male\\n285,285,PAIDOFF,1000,30,9/14/2016,11/12/2016,34,Bechalor,male\\n286,286,PAIDOFF,1000,30,9/14/2016,10/13/2016,29,college,male\\n288,288,PAIDOFF,1000,30,9/14/2016,10/13/2016,34,Bechalor,male\\n289,289,PAIDOFF,800,15,9/14/2016,9/28/2016,28,High School or Below,male\\n290,290,PAIDOFF,1000,15,9/14/2016,9/28/2016,30,college,female\\n291,291,PAIDOFF,1000,30,9/14/2016,10/13/2016,41,High School or Below,male\\n292,292,PAIDOFF,1000,30,9/14/2016,10/13/2016,29,college,male\\n293,293,PAIDOFF,1000,30,9/14/2016,10/13/2016,37,High School or Below,male\\n294,294,PAIDOFF,1000,30,9/14/2016,10/13/2016,36,Bechalor,male\\n296,296,PAIDOFF,800,15,9/14/2016,9/28/2016,27,college,male\\n297,297,PAIDOFF,1000,30,9/14/2016,10/13/2016,29,High School or Below,male\\n298,298,PAIDOFF,1000,30,9/14/2016,10/13/2016,40,High School or Below,male\\n299,299,PAIDOFF,1000,30,9/14/2016,10/13/2016,28,college,male\\n300,300,COLLECTION,1000,15,9/9/2016,9/23/2016,29,college,male\\n301,301,COLLECTION,1000,30,9/9/2016,10/8/2016,37,High School or Below,male\\n303,303,COLLECTION,800,15,9/9/2016,9/23/2016,27,college,male\\n304,304,COLLECTION,800,15,9/9/2016,9/23/2016,24,Bechalor,male\\n306,306,COLLECTION,800,15,9/10/2016,10/9/2016,28,college,male\\n307,307,COLLECTION,1000,30,9/10/2016,10/9/2016,40,High School or Below,male\\n308,308,COLLECTION,1000,30,9/10/2016,10/9/2016,33,college,male\\n312,312,COLLECTION,1000,30,9/10/2016,10/9/2016,27,High School or Below,male\\n314,314,COLLECTION,1000,30,9/10/2016,10/9/2016,24,college,male\\n316,316,COLLECTION,1000,30,9/10/2016,10/9/2016,30,High School or Below,male\\n317,317,COLLECTION,1000,15,9/10/2016,9/24/2016,29,High School or Below,male\\n318,318,COLLECTION,1000,30,9/10/2016,10/9/2016,22,Bechalor,male\\n319,319,COLLECTION,1000,15,9/10/2016,9/24/2016,24,Bechalor,male\\n320,320,COLLECTION,1000,30,9/10/2016,10/9/2016,25,college,male\\n321,321,COLLECTION,1000,30,9/10/2016,10/9/2016,28,High School or Below,male\\n322,322,COLLECTION,1000,30,9/10/2016,10/9/2016,37,college,male\\n323,323,COLLECTION,800,15,9/10/2016,9/24/2016,32,college,male\\n324,324,COLLECTION,1000,15,9/10/2016,9/24/2016,34,college,male\\n325,325,COLLECTION,1000,30,9/11/2016,10/10/2016,28,Bechalor,male\\n326,326,COLLECTION,800,15,9/11/2016,9/25/2016,35,Bechalor,male\\n327,327,COLLECTION,1000,30,9/11/2016,11/9/2016,27,college,male\\n329,329,COLLECTION,1000,30,9/11/2016,10/10/2016,44,Bechalor,male\\n330,330,COLLECTION,1000,15,9/11/2016,10/25/2016,31,college,male\\n332,332,COLLECTION,1000,30,9/11/2016,10/10/2016,21,High School or Below,male\\n333,333,COLLECTION,1000,30,9/11/2016,10/10/2016,30,High School or Below,female\\n334,334,COLLECTION,1000,30,9/11/2016,10/10/2016,38,college,female\\n335,335,COLLECTION,1000,30,9/11/2016,10/10/2016,34,High School or Below,male\\n336,336,COLLECTION,1000,30,9/11/2016,10/10/2016,31,college,male\\n337,337,COLLECTION,1000,30,9/11/2016,10/10/2016,23,High School or Below,male\\n338,338,COLLECTION,1000,15,9/11/2016,9/25/2016,27,college,female\\n339,339,COLLECTION,1000,15,9/11/2016,9/25/2016,39,High School or Below,male\\n340,340,COLLECTION,1000,30,9/11/2016,10/10/2016,30,High School or Below,female\\n341,341,COLLECTION,1000,30,9/11/2016,10/10/2016,25,college,male\\n342,342,COLLECTION,1000,15,9/11/2016,9/25/2016,50,Master or Above,male\\n343,343,COLLECTION,1000,30,9/11/2016,10/10/2016,23,High School or Below,male\\n344,344,COLLECTION,800,15,9/11/2016,9/25/2016,38,Bechalor,male\\n345,345,COLLECTION,1000,30,9/11/2016,10/10/2016,27,High School or Below,male\\n346,346,COLLECTION,1000,30,9/11/2016,11/9/2016,31,High School or Below,male\\n347,347,COLLECTION,800,15,9/11/2016,9/25/2016,40,college,male\\n350,350,COLLECTION,1000,30,9/11/2016,10/10/2016,26,High School or Below,male\\n351,351,COLLECTION,1000,15,9/11/2016,9/25/2016,25,college,male\\n352,352,COLLECTION,1000,30,9/11/2016,10/10/2016,35,High School or Below,male\\n353,353,COLLECTION,1000,30,9/11/2016,10/10/2016,41,High School or Below,male\\n354,354,COLLECTION,1000,30,9/11/2016,10/10/2016,37,High School or Below,male\\n355,355,COLLECTION,1000,15,9/11/2016,10/10/2016,34,college,male\\n356,356,COLLECTION,1000,30,9/11/2016,10/10/2016,45,High School or Below,male\\n357,357,COLLECTION,1000,30,9/11/2016,10/10/2016,26,Bechalor,male\\n358,358,COLLECTION,1000,30,9/11/2016,10/10/2016,32,college,male\\n359,359,COLLECTION,1000,30,9/11/2016,10/10/2016,28,High School or Below,male\\n360,360,COLLECTION,1000,30,9/11/2016,10/10/2016,34,college,male\\n361,361,COLLECTION,800,15,9/11/2016,9/25/2016,29,High School or Below,male\\n362,362,COLLECTION,1000,30,9/11/2016,10/10/2016,26,High School or Below,male\\n363,363,COLLECTION,1000,15,9/11/2016,9/25/2016,26,college,male\\n364,364,COLLECTION,800,15,9/11/2016,9/25/2016,22,college,male\\n365,365,COLLECTION,1000,30,9/11/2016,10/10/2016,27,High School or Below,female\\n366,366,COLLECTION,800,30,9/11/2016,10/10/2016,33,High School or Below,male\\n367,367,COLLECTION,800,15,9/11/2016,9/25/2016,28,Bechalor,male\\n368,368,COLLECTION,1000,30,9/11/2016,10/10/2016,24,college,male\\n371,371,COLLECTION,1000,30,9/11/2016,10/10/2016,18,college,male\\n372,372,COLLECTION,800,15,9/11/2016,9/25/2016,25,High School or Below,male\\n373,373,COLLECTION,1000,15,9/11/2016,9/25/2016,40,High School or Below,male\\n374,374,COLLECTION,1000,30,9/11/2016,10/10/2016,29,college,male\\n375,375,COLLECTION,800,15,9/11/2016,9/25/2016,26,High School or Below,female\\n376,376,COLLECTION,1000,15,9/11/2016,9/25/2016,30,college,male\\n377,377,COLLECTION,1000,30,9/11/2016,10/10/2016,33,college,male\\n378,378,COLLECTION,1000,30,9/11/2016,10/10/2016,30,college,male\\n379,379,COLLECTION,1000,30,9/11/2016,10/10/2016,32,college,male\\n380,380,COLLECTION,1000,30,9/11/2016,10/10/2016,25,High School or Below,male\\n381,381,COLLECTION,800,15,9/11/2016,9/25/2016,35,High School or Below,male\\n382,382,COLLECTION,1000,15,9/11/2016,9/25/2016,30,Bechalor,male\\n383,383,COLLECTION,1000,30,9/11/2016,10/10/2016,26,High School or Below,male\\n384,384,COLLECTION,1000,30,9/11/2016,10/10/2016,29,High School or Below,male\\n385,385,COLLECTION,1000,30,9/11/2016,11/9/2016,26,High School or Below,male\\n386,386,COLLECTION,800,15,9/11/2016,9/25/2016,46,High School or Below,male\\n387,387,COLLECTION,1000,30,9/11/2016,10/10/2016,36,High School or Below,male\\n388,388,COLLECTION,1000,15,9/11/2016,9/25/2016,38,Bechalor,male\\n389,389,COLLECTION,1000,15,9/11/2016,10/25/2016,32,High School or Below,male\\n390,390,COLLECTION,1000,15,9/11/2016,9/25/2016,30,college,male\\n391,391,COLLECTION,800,15,9/11/2016,9/25/2016,35,High School or Below,male\\n392,392,COLLECTION,1000,30,9/11/2016,10/10/2016,29,college,female\\n393,393,COLLECTION,1000,30,9/11/2016,11/9/2016,26,college,male\\n394,394,COLLECTION,800,15,9/11/2016,9/25/2016,32,High School or Below,male\\n395,395,COLLECTION,1000,30,9/11/2016,10/10/2016,25,High School or Below,male\\n397,397,COLLECTION,800,15,9/12/2016,9/26/2016,39,college,male\\n398,398,COLLECTION,1000,30,9/12/2016,11/10/2016,28,college,male\\n399,399,COLLECTION,1000,30,9/12/2016,10/11/2016,26,college,male\\n'}"
            ]
          },
          "metadata": {
            "tags": []
          },
          "execution_count": 1
        }
      ]
    },
    {
      "cell_type": "markdown",
      "metadata": {
        "id": "uNATiTiBzqKh",
        "colab_type": "text"
      },
      "source": [
        "Read Dataset"
      ]
    },
    {
      "cell_type": "code",
      "metadata": {
        "id": "s5DHt0O8xkJO",
        "colab_type": "code",
        "colab": {
          "base_uri": "https://localhost:8080/",
          "height": 204
        },
        "outputId": "604311bb-b7bc-458a-e382-f06577dea5eb"
      },
      "source": [
        "df = pd.read_csv('loan_train.csv')\n",
        "df.head()"
      ],
      "execution_count": 4,
      "outputs": [
        {
          "output_type": "execute_result",
          "data": {
            "text/html": [
              "<div>\n",
              "<style scoped>\n",
              "    .dataframe tbody tr th:only-of-type {\n",
              "        vertical-align: middle;\n",
              "    }\n",
              "\n",
              "    .dataframe tbody tr th {\n",
              "        vertical-align: top;\n",
              "    }\n",
              "\n",
              "    .dataframe thead th {\n",
              "        text-align: right;\n",
              "    }\n",
              "</style>\n",
              "<table border=\"1\" class=\"dataframe\">\n",
              "  <thead>\n",
              "    <tr style=\"text-align: right;\">\n",
              "      <th></th>\n",
              "      <th>Unnamed: 0</th>\n",
              "      <th>Unnamed: 0.1</th>\n",
              "      <th>loan_status</th>\n",
              "      <th>Principal</th>\n",
              "      <th>terms</th>\n",
              "      <th>effective_date</th>\n",
              "      <th>due_date</th>\n",
              "      <th>age</th>\n",
              "      <th>education</th>\n",
              "      <th>Gender</th>\n",
              "    </tr>\n",
              "  </thead>\n",
              "  <tbody>\n",
              "    <tr>\n",
              "      <th>0</th>\n",
              "      <td>0</td>\n",
              "      <td>0</td>\n",
              "      <td>PAIDOFF</td>\n",
              "      <td>1000</td>\n",
              "      <td>30</td>\n",
              "      <td>9/8/2016</td>\n",
              "      <td>10/7/2016</td>\n",
              "      <td>45</td>\n",
              "      <td>High School or Below</td>\n",
              "      <td>male</td>\n",
              "    </tr>\n",
              "    <tr>\n",
              "      <th>1</th>\n",
              "      <td>2</td>\n",
              "      <td>2</td>\n",
              "      <td>PAIDOFF</td>\n",
              "      <td>1000</td>\n",
              "      <td>30</td>\n",
              "      <td>9/8/2016</td>\n",
              "      <td>10/7/2016</td>\n",
              "      <td>33</td>\n",
              "      <td>Bechalor</td>\n",
              "      <td>female</td>\n",
              "    </tr>\n",
              "    <tr>\n",
              "      <th>2</th>\n",
              "      <td>3</td>\n",
              "      <td>3</td>\n",
              "      <td>PAIDOFF</td>\n",
              "      <td>1000</td>\n",
              "      <td>15</td>\n",
              "      <td>9/8/2016</td>\n",
              "      <td>9/22/2016</td>\n",
              "      <td>27</td>\n",
              "      <td>college</td>\n",
              "      <td>male</td>\n",
              "    </tr>\n",
              "    <tr>\n",
              "      <th>3</th>\n",
              "      <td>4</td>\n",
              "      <td>4</td>\n",
              "      <td>PAIDOFF</td>\n",
              "      <td>1000</td>\n",
              "      <td>30</td>\n",
              "      <td>9/9/2016</td>\n",
              "      <td>10/8/2016</td>\n",
              "      <td>28</td>\n",
              "      <td>college</td>\n",
              "      <td>female</td>\n",
              "    </tr>\n",
              "    <tr>\n",
              "      <th>4</th>\n",
              "      <td>6</td>\n",
              "      <td>6</td>\n",
              "      <td>PAIDOFF</td>\n",
              "      <td>1000</td>\n",
              "      <td>30</td>\n",
              "      <td>9/9/2016</td>\n",
              "      <td>10/8/2016</td>\n",
              "      <td>29</td>\n",
              "      <td>college</td>\n",
              "      <td>male</td>\n",
              "    </tr>\n",
              "  </tbody>\n",
              "</table>\n",
              "</div>"
            ],
            "text/plain": [
              "   Unnamed: 0  Unnamed: 0.1 loan_status  ...  age             education  Gender\n",
              "0           0             0     PAIDOFF  ...   45  High School or Below    male\n",
              "1           2             2     PAIDOFF  ...   33              Bechalor  female\n",
              "2           3             3     PAIDOFF  ...   27               college    male\n",
              "3           4             4     PAIDOFF  ...   28               college  female\n",
              "4           6             6     PAIDOFF  ...   29               college    male\n",
              "\n",
              "[5 rows x 10 columns]"
            ]
          },
          "metadata": {
            "tags": []
          },
          "execution_count": 4
        }
      ]
    },
    {
      "cell_type": "markdown",
      "metadata": {
        "id": "Du77EDYz0GkF",
        "colab_type": "text"
      },
      "source": [
        "Remove Unneccesary column"
      ]
    },
    {
      "cell_type": "code",
      "metadata": {
        "id": "Em5GxRV5zrVi",
        "colab_type": "code",
        "colab": {}
      },
      "source": [
        "df = df.drop([\"Unnamed: 0\", \"Unnamed: 0.1\"], axis=1)"
      ],
      "execution_count": 5,
      "outputs": []
    },
    {
      "cell_type": "code",
      "metadata": {
        "id": "XLxkbIB_0QLc",
        "colab_type": "code",
        "colab": {
          "base_uri": "https://localhost:8080/",
          "height": 419
        },
        "outputId": "ab23653d-9c21-4728-f96c-e6fed3373b4e"
      },
      "source": [
        "df"
      ],
      "execution_count": 6,
      "outputs": [
        {
          "output_type": "execute_result",
          "data": {
            "text/html": [
              "<div>\n",
              "<style scoped>\n",
              "    .dataframe tbody tr th:only-of-type {\n",
              "        vertical-align: middle;\n",
              "    }\n",
              "\n",
              "    .dataframe tbody tr th {\n",
              "        vertical-align: top;\n",
              "    }\n",
              "\n",
              "    .dataframe thead th {\n",
              "        text-align: right;\n",
              "    }\n",
              "</style>\n",
              "<table border=\"1\" class=\"dataframe\">\n",
              "  <thead>\n",
              "    <tr style=\"text-align: right;\">\n",
              "      <th></th>\n",
              "      <th>loan_status</th>\n",
              "      <th>Principal</th>\n",
              "      <th>terms</th>\n",
              "      <th>effective_date</th>\n",
              "      <th>due_date</th>\n",
              "      <th>age</th>\n",
              "      <th>education</th>\n",
              "      <th>Gender</th>\n",
              "    </tr>\n",
              "  </thead>\n",
              "  <tbody>\n",
              "    <tr>\n",
              "      <th>0</th>\n",
              "      <td>PAIDOFF</td>\n",
              "      <td>1000</td>\n",
              "      <td>30</td>\n",
              "      <td>9/8/2016</td>\n",
              "      <td>10/7/2016</td>\n",
              "      <td>45</td>\n",
              "      <td>High School or Below</td>\n",
              "      <td>male</td>\n",
              "    </tr>\n",
              "    <tr>\n",
              "      <th>1</th>\n",
              "      <td>PAIDOFF</td>\n",
              "      <td>1000</td>\n",
              "      <td>30</td>\n",
              "      <td>9/8/2016</td>\n",
              "      <td>10/7/2016</td>\n",
              "      <td>33</td>\n",
              "      <td>Bechalor</td>\n",
              "      <td>female</td>\n",
              "    </tr>\n",
              "    <tr>\n",
              "      <th>2</th>\n",
              "      <td>PAIDOFF</td>\n",
              "      <td>1000</td>\n",
              "      <td>15</td>\n",
              "      <td>9/8/2016</td>\n",
              "      <td>9/22/2016</td>\n",
              "      <td>27</td>\n",
              "      <td>college</td>\n",
              "      <td>male</td>\n",
              "    </tr>\n",
              "    <tr>\n",
              "      <th>3</th>\n",
              "      <td>PAIDOFF</td>\n",
              "      <td>1000</td>\n",
              "      <td>30</td>\n",
              "      <td>9/9/2016</td>\n",
              "      <td>10/8/2016</td>\n",
              "      <td>28</td>\n",
              "      <td>college</td>\n",
              "      <td>female</td>\n",
              "    </tr>\n",
              "    <tr>\n",
              "      <th>4</th>\n",
              "      <td>PAIDOFF</td>\n",
              "      <td>1000</td>\n",
              "      <td>30</td>\n",
              "      <td>9/9/2016</td>\n",
              "      <td>10/8/2016</td>\n",
              "      <td>29</td>\n",
              "      <td>college</td>\n",
              "      <td>male</td>\n",
              "    </tr>\n",
              "    <tr>\n",
              "      <th>...</th>\n",
              "      <td>...</td>\n",
              "      <td>...</td>\n",
              "      <td>...</td>\n",
              "      <td>...</td>\n",
              "      <td>...</td>\n",
              "      <td>...</td>\n",
              "      <td>...</td>\n",
              "      <td>...</td>\n",
              "    </tr>\n",
              "    <tr>\n",
              "      <th>341</th>\n",
              "      <td>COLLECTION</td>\n",
              "      <td>800</td>\n",
              "      <td>15</td>\n",
              "      <td>9/11/2016</td>\n",
              "      <td>9/25/2016</td>\n",
              "      <td>32</td>\n",
              "      <td>High School or Below</td>\n",
              "      <td>male</td>\n",
              "    </tr>\n",
              "    <tr>\n",
              "      <th>342</th>\n",
              "      <td>COLLECTION</td>\n",
              "      <td>1000</td>\n",
              "      <td>30</td>\n",
              "      <td>9/11/2016</td>\n",
              "      <td>10/10/2016</td>\n",
              "      <td>25</td>\n",
              "      <td>High School or Below</td>\n",
              "      <td>male</td>\n",
              "    </tr>\n",
              "    <tr>\n",
              "      <th>343</th>\n",
              "      <td>COLLECTION</td>\n",
              "      <td>800</td>\n",
              "      <td>15</td>\n",
              "      <td>9/12/2016</td>\n",
              "      <td>9/26/2016</td>\n",
              "      <td>39</td>\n",
              "      <td>college</td>\n",
              "      <td>male</td>\n",
              "    </tr>\n",
              "    <tr>\n",
              "      <th>344</th>\n",
              "      <td>COLLECTION</td>\n",
              "      <td>1000</td>\n",
              "      <td>30</td>\n",
              "      <td>9/12/2016</td>\n",
              "      <td>11/10/2016</td>\n",
              "      <td>28</td>\n",
              "      <td>college</td>\n",
              "      <td>male</td>\n",
              "    </tr>\n",
              "    <tr>\n",
              "      <th>345</th>\n",
              "      <td>COLLECTION</td>\n",
              "      <td>1000</td>\n",
              "      <td>30</td>\n",
              "      <td>9/12/2016</td>\n",
              "      <td>10/11/2016</td>\n",
              "      <td>26</td>\n",
              "      <td>college</td>\n",
              "      <td>male</td>\n",
              "    </tr>\n",
              "  </tbody>\n",
              "</table>\n",
              "<p>346 rows × 8 columns</p>\n",
              "</div>"
            ],
            "text/plain": [
              "    loan_status  Principal  terms  ... age             education  Gender\n",
              "0       PAIDOFF       1000     30  ...  45  High School or Below    male\n",
              "1       PAIDOFF       1000     30  ...  33              Bechalor  female\n",
              "2       PAIDOFF       1000     15  ...  27               college    male\n",
              "3       PAIDOFF       1000     30  ...  28               college  female\n",
              "4       PAIDOFF       1000     30  ...  29               college    male\n",
              "..          ...        ...    ...  ...  ..                   ...     ...\n",
              "341  COLLECTION        800     15  ...  32  High School or Below    male\n",
              "342  COLLECTION       1000     30  ...  25  High School or Below    male\n",
              "343  COLLECTION        800     15  ...  39               college    male\n",
              "344  COLLECTION       1000     30  ...  28               college    male\n",
              "345  COLLECTION       1000     30  ...  26               college    male\n",
              "\n",
              "[346 rows x 8 columns]"
            ]
          },
          "metadata": {
            "tags": []
          },
          "execution_count": 6
        }
      ]
    },
    {
      "cell_type": "markdown",
      "metadata": {
        "id": "Q4gUBoCt0aMp",
        "colab_type": "text"
      },
      "source": [
        "Checking size of dataset"
      ]
    },
    {
      "cell_type": "code",
      "metadata": {
        "id": "EUtnc59P0RPq",
        "colab_type": "code",
        "colab": {
          "base_uri": "https://localhost:8080/",
          "height": 34
        },
        "outputId": "a2e0a3b9-7d65-4a12-93de-0e4c2dc76e4c"
      },
      "source": [
        "df.shape"
      ],
      "execution_count": 7,
      "outputs": [
        {
          "output_type": "execute_result",
          "data": {
            "text/plain": [
              "(346, 8)"
            ]
          },
          "metadata": {
            "tags": []
          },
          "execution_count": 7
        }
      ]
    },
    {
      "cell_type": "markdown",
      "metadata": {
        "id": "JhjAx1Lp0fqK",
        "colab_type": "text"
      },
      "source": [
        "Converting date time object"
      ]
    },
    {
      "cell_type": "code",
      "metadata": {
        "id": "rmQTbV_u0d5W",
        "colab_type": "code",
        "colab": {
          "base_uri": "https://localhost:8080/",
          "height": 204
        },
        "outputId": "f2f62f22-664b-4edf-b5d8-cd92c4074fb5"
      },
      "source": [
        "df['due_date'] = pd.to_datetime(df['due_date'])\n",
        "df['effective_date'] = pd.to_datetime(df['effective_date'])\n",
        "df.head()"
      ],
      "execution_count": 9,
      "outputs": [
        {
          "output_type": "execute_result",
          "data": {
            "text/html": [
              "<div>\n",
              "<style scoped>\n",
              "    .dataframe tbody tr th:only-of-type {\n",
              "        vertical-align: middle;\n",
              "    }\n",
              "\n",
              "    .dataframe tbody tr th {\n",
              "        vertical-align: top;\n",
              "    }\n",
              "\n",
              "    .dataframe thead th {\n",
              "        text-align: right;\n",
              "    }\n",
              "</style>\n",
              "<table border=\"1\" class=\"dataframe\">\n",
              "  <thead>\n",
              "    <tr style=\"text-align: right;\">\n",
              "      <th></th>\n",
              "      <th>loan_status</th>\n",
              "      <th>Principal</th>\n",
              "      <th>terms</th>\n",
              "      <th>effective_date</th>\n",
              "      <th>due_date</th>\n",
              "      <th>age</th>\n",
              "      <th>education</th>\n",
              "      <th>Gender</th>\n",
              "    </tr>\n",
              "  </thead>\n",
              "  <tbody>\n",
              "    <tr>\n",
              "      <th>0</th>\n",
              "      <td>PAIDOFF</td>\n",
              "      <td>1000</td>\n",
              "      <td>30</td>\n",
              "      <td>2016-09-08</td>\n",
              "      <td>2016-10-07</td>\n",
              "      <td>45</td>\n",
              "      <td>High School or Below</td>\n",
              "      <td>male</td>\n",
              "    </tr>\n",
              "    <tr>\n",
              "      <th>1</th>\n",
              "      <td>PAIDOFF</td>\n",
              "      <td>1000</td>\n",
              "      <td>30</td>\n",
              "      <td>2016-09-08</td>\n",
              "      <td>2016-10-07</td>\n",
              "      <td>33</td>\n",
              "      <td>Bechalor</td>\n",
              "      <td>female</td>\n",
              "    </tr>\n",
              "    <tr>\n",
              "      <th>2</th>\n",
              "      <td>PAIDOFF</td>\n",
              "      <td>1000</td>\n",
              "      <td>15</td>\n",
              "      <td>2016-09-08</td>\n",
              "      <td>2016-09-22</td>\n",
              "      <td>27</td>\n",
              "      <td>college</td>\n",
              "      <td>male</td>\n",
              "    </tr>\n",
              "    <tr>\n",
              "      <th>3</th>\n",
              "      <td>PAIDOFF</td>\n",
              "      <td>1000</td>\n",
              "      <td>30</td>\n",
              "      <td>2016-09-09</td>\n",
              "      <td>2016-10-08</td>\n",
              "      <td>28</td>\n",
              "      <td>college</td>\n",
              "      <td>female</td>\n",
              "    </tr>\n",
              "    <tr>\n",
              "      <th>4</th>\n",
              "      <td>PAIDOFF</td>\n",
              "      <td>1000</td>\n",
              "      <td>30</td>\n",
              "      <td>2016-09-09</td>\n",
              "      <td>2016-10-08</td>\n",
              "      <td>29</td>\n",
              "      <td>college</td>\n",
              "      <td>male</td>\n",
              "    </tr>\n",
              "  </tbody>\n",
              "</table>\n",
              "</div>"
            ],
            "text/plain": [
              "  loan_status  Principal  terms  ... age             education  Gender\n",
              "0     PAIDOFF       1000     30  ...  45  High School or Below    male\n",
              "1     PAIDOFF       1000     30  ...  33              Bechalor  female\n",
              "2     PAIDOFF       1000     15  ...  27               college    male\n",
              "3     PAIDOFF       1000     30  ...  28               college  female\n",
              "4     PAIDOFF       1000     30  ...  29               college    male\n",
              "\n",
              "[5 rows x 8 columns]"
            ]
          },
          "metadata": {
            "tags": []
          },
          "execution_count": 9
        }
      ]
    },
    {
      "cell_type": "markdown",
      "metadata": {
        "id": "d8PrriZO03i7",
        "colab_type": "text"
      },
      "source": [
        "Data pre-processing"
      ]
    },
    {
      "cell_type": "markdown",
      "metadata": {
        "id": "7CACvK101EEe",
        "colab_type": "text"
      },
      "source": [
        "Checking the number of class in Dataset"
      ]
    },
    {
      "cell_type": "code",
      "metadata": {
        "id": "GFkUlGfv0uyB",
        "colab_type": "code",
        "colab": {
          "base_uri": "https://localhost:8080/",
          "height": 68
        },
        "outputId": "be2a8dc3-9f15-4c04-bfdf-67f772ee9a6d"
      },
      "source": [
        "df['loan_status'].value_counts()"
      ],
      "execution_count": 10,
      "outputs": [
        {
          "output_type": "execute_result",
          "data": {
            "text/plain": [
              "PAIDOFF       260\n",
              "COLLECTION     86\n",
              "Name: loan_status, dtype: int64"
            ]
          },
          "metadata": {
            "tags": []
          },
          "execution_count": 10
        }
      ]
    },
    {
      "cell_type": "markdown",
      "metadata": {
        "id": "iAu_QqWB1mAI",
        "colab_type": "text"
      },
      "source": [
        "Feature Selection and Data Visualization"
      ]
    },
    {
      "cell_type": "code",
      "metadata": {
        "id": "gHh5l7Tn1KMy",
        "colab_type": "code",
        "colab": {
          "base_uri": "https://localhost:8080/",
          "height": 225
        },
        "outputId": "a6e3aa52-ffd6-47b3-9c6f-cdd0f0bce4fa"
      },
      "source": [
        "df['dayofweek'] = df['effective_date'].dt.dayofweek\n",
        "bins=np.linspace(df.dayofweek.min(), df.dayofweek.max(), 10)\n",
        "g = sns.FacetGrid(df, col=\"Gender\", hue=\"loan_status\", palette=\"Set1\", col_wrap=2)\n",
        "g.map(plt.hist, 'dayofweek', bins=bins, ec=\"k\")\n",
        "g.axes[-1].legend()\n",
        "plt.show()"
      ],
      "execution_count": 11,
      "outputs": [
        {
          "output_type": "display_data",
          "data": {
            "image/png": "[encoded data removed]",
            "text/plain": [
              "<Figure size 432x216 with 2 Axes>"
            ]
          },
          "metadata": {
            "tags": [],
            "needs_background": "light"
          }
        }
      ]
    },
    {
      "cell_type": "markdown",
      "metadata": {
        "id": "F2NuohjO2qf5",
        "colab_type": "text"
      },
      "source": [
        "Convert Categorical features to numerical values"
      ]
    },
    {
      "cell_type": "code",
      "metadata": {
        "id": "YQviXybA1wI_",
        "colab_type": "code",
        "colab": {
          "base_uri": "https://localhost:8080/",
          "height": 119
        },
        "outputId": "4d107f5c-7a01-4ffe-fd62-84b6497a9176"
      },
      "source": [
        "df.groupby(['Gender'])['loan_status'].value_counts(normalize=True)"
      ],
      "execution_count": 12,
      "outputs": [
        {
          "output_type": "execute_result",
          "data": {
            "text/plain": [
              "Gender  loan_status\n",
              "female  PAIDOFF        0.865385\n",
              "        COLLECTION     0.134615\n",
              "male    PAIDOFF        0.731293\n",
              "        COLLECTION     0.268707\n",
              "Name: loan_status, dtype: float64"
            ]
          },
          "metadata": {
            "tags": []
          },
          "execution_count": 12
        }
      ]
    },
    {
      "cell_type": "markdown",
      "metadata": {
        "id": "8_Da0c6c2024",
        "colab_type": "text"
      },
      "source": [
        "To get the numerical value, lets change the gender in 'male' and 'female' where male=0 and female =1"
      ]
    },
    {
      "cell_type": "code",
      "metadata": {
        "id": "o66J-Nzf2vKi",
        "colab_type": "code",
        "colab": {
          "base_uri": "https://localhost:8080/",
          "height": 204
        },
        "outputId": "c3fc1550-f0dd-47f4-9f34-95750e3593a2"
      },
      "source": [
        "df['Gender'].replace(to_replace=['male','female'], value=[0,1],inplace=True)\n",
        "df.head()"
      ],
      "execution_count": 13,
      "outputs": [
        {
          "output_type": "execute_result",
          "data": {
            "text/html": [
              "<div>\n",
              "<style scoped>\n",
              "    .dataframe tbody tr th:only-of-type {\n",
              "        vertical-align: middle;\n",
              "    }\n",
              "\n",
              "    .dataframe tbody tr th {\n",
              "        vertical-align: top;\n",
              "    }\n",
              "\n",
              "    .dataframe thead th {\n",
              "        text-align: right;\n",
              "    }\n",
              "</style>\n",
              "<table border=\"1\" class=\"dataframe\">\n",
              "  <thead>\n",
              "    <tr style=\"text-align: right;\">\n",
              "      <th></th>\n",
              "      <th>loan_status</th>\n",
              "      <th>Principal</th>\n",
              "      <th>terms</th>\n",
              "      <th>effective_date</th>\n",
              "      <th>due_date</th>\n",
              "      <th>age</th>\n",
              "      <th>education</th>\n",
              "      <th>Gender</th>\n",
              "      <th>dayofweek</th>\n",
              "    </tr>\n",
              "  </thead>\n",
              "  <tbody>\n",
              "    <tr>\n",
              "      <th>0</th>\n",
              "      <td>PAIDOFF</td>\n",
              "      <td>1000</td>\n",
              "      <td>30</td>\n",
              "      <td>2016-09-08</td>\n",
              "      <td>2016-10-07</td>\n",
              "      <td>45</td>\n",
              "      <td>High School or Below</td>\n",
              "      <td>0</td>\n",
              "      <td>3</td>\n",
              "    </tr>\n",
              "    <tr>\n",
              "      <th>1</th>\n",
              "      <td>PAIDOFF</td>\n",
              "      <td>1000</td>\n",
              "      <td>30</td>\n",
              "      <td>2016-09-08</td>\n",
              "      <td>2016-10-07</td>\n",
              "      <td>33</td>\n",
              "      <td>Bechalor</td>\n",
              "      <td>1</td>\n",
              "      <td>3</td>\n",
              "    </tr>\n",
              "    <tr>\n",
              "      <th>2</th>\n",
              "      <td>PAIDOFF</td>\n",
              "      <td>1000</td>\n",
              "      <td>15</td>\n",
              "      <td>2016-09-08</td>\n",
              "      <td>2016-09-22</td>\n",
              "      <td>27</td>\n",
              "      <td>college</td>\n",
              "      <td>0</td>\n",
              "      <td>3</td>\n",
              "    </tr>\n",
              "    <tr>\n",
              "      <th>3</th>\n",
              "      <td>PAIDOFF</td>\n",
              "      <td>1000</td>\n",
              "      <td>30</td>\n",
              "      <td>2016-09-09</td>\n",
              "      <td>2016-10-08</td>\n",
              "      <td>28</td>\n",
              "      <td>college</td>\n",
              "      <td>1</td>\n",
              "      <td>4</td>\n",
              "    </tr>\n",
              "    <tr>\n",
              "      <th>4</th>\n",
              "      <td>PAIDOFF</td>\n",
              "      <td>1000</td>\n",
              "      <td>30</td>\n",
              "      <td>2016-09-09</td>\n",
              "      <td>2016-10-08</td>\n",
              "      <td>29</td>\n",
              "      <td>college</td>\n",
              "      <td>0</td>\n",
              "      <td>4</td>\n",
              "    </tr>\n",
              "  </tbody>\n",
              "</table>\n",
              "</div>"
            ],
            "text/plain": [
              "  loan_status  Principal  terms  ...             education Gender  dayofweek\n",
              "0     PAIDOFF       1000     30  ...  High School or Below      0          3\n",
              "1     PAIDOFF       1000     30  ...              Bechalor      1          3\n",
              "2     PAIDOFF       1000     15  ...               college      0          3\n",
              "3     PAIDOFF       1000     30  ...               college      1          4\n",
              "4     PAIDOFF       1000     30  ...               college      0          4\n",
              "\n",
              "[5 rows x 9 columns]"
            ]
          },
          "metadata": {
            "tags": []
          },
          "execution_count": 13
        }
      ]
    },
    {
      "cell_type": "markdown",
      "metadata": {
        "id": "Wcxa6I5V3spQ",
        "colab_type": "text"
      },
      "source": [
        "Encoding on education"
      ]
    },
    {
      "cell_type": "code",
      "metadata": {
        "id": "FIpLNGWo3H1t",
        "colab_type": "code",
        "colab": {
          "base_uri": "https://localhost:8080/",
          "height": 204
        },
        "outputId": "9b9b8238-120f-4871-caa1-fa994d845095"
      },
      "source": [
        "feature = df[['Principal','terms','age','Gender']]\n",
        "feature = pd.concat([feature,pd.get_dummies(df['education'])], axis=1)\n",
        "feature.drop(['Master or Above'], axis = 1,inplace=True)\n",
        "feature.head()"
      ],
      "execution_count": 15,
      "outputs": [
        {
          "output_type": "execute_result",
          "data": {
            "text/html": [
              "<div>\n",
              "<style scoped>\n",
              "    .dataframe tbody tr th:only-of-type {\n",
              "        vertical-align: middle;\n",
              "    }\n",
              "\n",
              "    .dataframe tbody tr th {\n",
              "        vertical-align: top;\n",
              "    }\n",
              "\n",
              "    .dataframe thead th {\n",
              "        text-align: right;\n",
              "    }\n",
              "</style>\n",
              "<table border=\"1\" class=\"dataframe\">\n",
              "  <thead>\n",
              "    <tr style=\"text-align: right;\">\n",
              "      <th></th>\n",
              "      <th>Principal</th>\n",
              "      <th>terms</th>\n",
              "      <th>age</th>\n",
              "      <th>Gender</th>\n",
              "      <th>Bechalor</th>\n",
              "      <th>High School or Below</th>\n",
              "      <th>college</th>\n",
              "    </tr>\n",
              "  </thead>\n",
              "  <tbody>\n",
              "    <tr>\n",
              "      <th>0</th>\n",
              "      <td>1000</td>\n",
              "      <td>30</td>\n",
              "      <td>45</td>\n",
              "      <td>0</td>\n",
              "      <td>0</td>\n",
              "      <td>1</td>\n",
              "      <td>0</td>\n",
              "    </tr>\n",
              "    <tr>\n",
              "      <th>1</th>\n",
              "      <td>1000</td>\n",
              "      <td>30</td>\n",
              "      <td>33</td>\n",
              "      <td>1</td>\n",
              "      <td>1</td>\n",
              "      <td>0</td>\n",
              "      <td>0</td>\n",
              "    </tr>\n",
              "    <tr>\n",
              "      <th>2</th>\n",
              "      <td>1000</td>\n",
              "      <td>15</td>\n",
              "      <td>27</td>\n",
              "      <td>0</td>\n",
              "      <td>0</td>\n",
              "      <td>0</td>\n",
              "      <td>1</td>\n",
              "    </tr>\n",
              "    <tr>\n",
              "      <th>3</th>\n",
              "      <td>1000</td>\n",
              "      <td>30</td>\n",
              "      <td>28</td>\n",
              "      <td>1</td>\n",
              "      <td>0</td>\n",
              "      <td>0</td>\n",
              "      <td>1</td>\n",
              "    </tr>\n",
              "    <tr>\n",
              "      <th>4</th>\n",
              "      <td>1000</td>\n",
              "      <td>30</td>\n",
              "      <td>29</td>\n",
              "      <td>0</td>\n",
              "      <td>0</td>\n",
              "      <td>0</td>\n",
              "      <td>1</td>\n",
              "    </tr>\n",
              "  </tbody>\n",
              "</table>\n",
              "</div>"
            ],
            "text/plain": [
              "   Principal  terms  age  Gender  Bechalor  High School or Below  college\n",
              "0       1000     30   45       0         0                     1        0\n",
              "1       1000     30   33       1         1                     0        0\n",
              "2       1000     15   27       0         0                     0        1\n",
              "3       1000     30   28       1         0                     0        1\n",
              "4       1000     30   29       0         0                     0        1"
            ]
          },
          "metadata": {
            "tags": []
          },
          "execution_count": 15
        }
      ]
    },
    {
      "cell_type": "code",
      "metadata": {
        "id": "hrFPa8Is3vfc",
        "colab_type": "code",
        "colab": {}
      },
      "source": [
        "# x is feature data\n",
        "x = feature\n",
        "# y is label data\n",
        "y= df['loan_status'].values\n"
      ],
      "execution_count": 16,
      "outputs": []
    },
    {
      "cell_type": "markdown",
      "metadata": {
        "id": "PkbMMhrF4aeZ",
        "colab_type": "text"
      },
      "source": [
        "Normalize data"
      ]
    },
    {
      "cell_type": "code",
      "metadata": {
        "id": "uj7JablA4VZ_",
        "colab_type": "code",
        "colab": {}
      },
      "source": [
        "x = preprocessing.StandardScaler().fit(x).transform(x)"
      ],
      "execution_count": 17,
      "outputs": []
    },
    {
      "cell_type": "code",
      "metadata": {
        "id": "Nlu_s6UB4h9Z",
        "colab_type": "code",
        "colab": {
          "base_uri": "https://localhost:8080/",
          "height": 238
        },
        "outputId": "cba45ddf-e1e7-44d5-db67-08634d875d63"
      },
      "source": [
        "print(x)"
      ],
      "execution_count": 18,
      "outputs": [
        {
          "output_type": "stream",
          "text": [
            "[[ 0.51578458  0.92071769  2.33152555 ... -0.38170062  1.13639374\n",
            "  -0.86968108]\n",
            " [ 0.51578458  0.92071769  0.34170148 ...  2.61985426 -0.87997669\n",
            "  -0.86968108]\n",
            " [ 0.51578458 -0.95911111 -0.65321055 ... -0.38170062 -0.87997669\n",
            "   1.14984679]\n",
            " ...\n",
            " [-1.31458942 -0.95911111  1.33661351 ... -0.38170062 -0.87997669\n",
            "   1.14984679]\n",
            " [ 0.51578458  0.92071769 -0.48739188 ... -0.38170062 -0.87997669\n",
            "   1.14984679]\n",
            " [ 0.51578458  0.92071769 -0.81902922 ... -0.38170062 -0.87997669\n",
            "   1.14984679]]\n"
          ],
          "name": "stdout"
        }
      ]
    },
    {
      "cell_type": "markdown",
      "metadata": {
        "id": "ioyi1jxV4qVh",
        "colab_type": "text"
      },
      "source": [
        "Lets Build the Classification Model"
      ]
    },
    {
      "cell_type": "markdown",
      "metadata": {
        "id": "FlfDjngd4zhN",
        "colab_type": "text"
      },
      "source": [
        "**K Nearest Neighbor(KNN)**"
      ]
    },
    {
      "cell_type": "code",
      "metadata": {
        "id": "MoPptVgo4kRs",
        "colab_type": "code",
        "colab": {
          "base_uri": "https://localhost:8080/",
          "height": 51
        },
        "outputId": "c78ffb85-7fd6-4df4-9b4d-55544d17703d"
      },
      "source": [
        "from sklearn.model_selection import train_test_split\n",
        "x_train, x_test, y_train, y_test = train_test_split(x, y, test_size=0.2, random_state=41)\n",
        "print ('train set: ', x_train.shape,  y_train.shape)\n",
        "print ('test set: ', x_test.shape,  y_test.shape)"
      ],
      "execution_count": 19,
      "outputs": [
        {
          "output_type": "stream",
          "text": [
            "train set:  (276, 7) (276,)\n",
            "test set:  (70, 7) (70,)\n"
          ],
          "name": "stdout"
        }
      ]
    },
    {
      "cell_type": "code",
      "metadata": {
        "id": "w8qrTER45Hb0",
        "colab_type": "code",
        "colab": {}
      },
      "source": [
        "from sklearn.neighbors import KNeighborsClassifier\n",
        "k = 3\n",
        "#Train the Model  \n",
        "kNN_model = KNeighborsClassifier(n_neighbors=k).fit(x_train,y_train)"
      ],
      "execution_count": 20,
      "outputs": []
    },
    {
      "cell_type": "code",
      "metadata": {
        "id": "FWqnOXxy5Vz6",
        "colab_type": "code",
        "colab": {
          "base_uri": "https://localhost:8080/",
          "height": 238
        },
        "outputId": "d9618346-ce52-4c3a-d5f2-1194a96022d5"
      },
      "source": [
        "#prediction\n",
        "pred = kNN_model.predict(x_test)\n",
        "pred"
      ],
      "execution_count": 21,
      "outputs": [
        {
          "output_type": "execute_result",
          "data": {
            "text/plain": [
              "array(['PAIDOFF', 'PAIDOFF', 'PAIDOFF', 'PAIDOFF', 'PAIDOFF', 'PAIDOFF',\n",
              "       'PAIDOFF', 'PAIDOFF', 'PAIDOFF', 'PAIDOFF', 'PAIDOFF', 'PAIDOFF',\n",
              "       'PAIDOFF', 'PAIDOFF', 'PAIDOFF', 'PAIDOFF', 'PAIDOFF', 'PAIDOFF',\n",
              "       'PAIDOFF', 'PAIDOFF', 'PAIDOFF', 'PAIDOFF', 'PAIDOFF', 'PAIDOFF',\n",
              "       'COLLECTION', 'PAIDOFF', 'PAIDOFF', 'PAIDOFF', 'PAIDOFF',\n",
              "       'PAIDOFF', 'PAIDOFF', 'PAIDOFF', 'PAIDOFF', 'PAIDOFF',\n",
              "       'COLLECTION', 'PAIDOFF', 'PAIDOFF', 'PAIDOFF', 'PAIDOFF',\n",
              "       'PAIDOFF', 'PAIDOFF', 'PAIDOFF', 'PAIDOFF', 'PAIDOFF', 'PAIDOFF',\n",
              "       'PAIDOFF', 'PAIDOFF', 'COLLECTION', 'PAIDOFF', 'PAIDOFF',\n",
              "       'PAIDOFF', 'PAIDOFF', 'PAIDOFF', 'PAIDOFF', 'PAIDOFF', 'PAIDOFF',\n",
              "       'PAIDOFF', 'PAIDOFF', 'PAIDOFF', 'COLLECTION', 'PAIDOFF',\n",
              "       'PAIDOFF', 'PAIDOFF', 'COLLECTION', 'PAIDOFF', 'PAIDOFF',\n",
              "       'PAIDOFF', 'PAIDOFF', 'PAIDOFF', 'PAIDOFF'], dtype=object)"
            ]
          },
          "metadata": {
            "tags": []
          },
          "execution_count": 21
        }
      ]
    },
    {
      "cell_type": "code",
      "metadata": {
        "id": "XFw4cp915wbS",
        "colab_type": "code",
        "colab": {
          "base_uri": "https://localhost:8080/",
          "height": 68
        },
        "outputId": "d05f4eae-d715-4294-9942-c5eef17171f7"
      },
      "source": [
        "# Best k\n",
        "kb=15\n",
        "mean_acc=np.zeros((kb-1))\n",
        "std_acc=np.zeros((kb-1))\n",
        "ConfustionMx=[];\n",
        "for n in range(1,kb):\n",
        "    kNN_model = KNeighborsClassifier(n_neighbors=n).fit(x_train,y_train)\n",
        "    p = kNN_model.predict(x_test)\n",
        "    \n",
        "    \n",
        "    mean_acc[n-1]=np.mean(p==y_test);\n",
        "    \n",
        "    std_acc[n-1]=np.std(p==y_test)/np.sqrt(p.shape[0])\n",
        "print(mean_acc)"
      ],
      "execution_count": 22,
      "outputs": [
        {
          "output_type": "stream",
          "text": [
            "[0.6        0.5        0.68571429 0.62857143 0.71428571 0.7\n",
            " 0.75714286 0.74285714 0.74285714 0.74285714 0.74285714 0.74285714\n",
            " 0.74285714 0.72857143]\n"
          ],
          "name": "stdout"
        }
      ]
    },
    {
      "cell_type": "code",
      "metadata": {
        "id": "PGuFFR0W6Odd",
        "colab_type": "code",
        "colab": {
          "base_uri": "https://localhost:8080/",
          "height": 68
        },
        "outputId": "f2e64bd9-1b97-425d-f8d1-bde864bbf6a3"
      },
      "source": [
        "#for building the model again using k =7\n",
        "k = 7\n",
        "kNN_model = KNeighborsClassifier(n_neighbors=k).fit(x_train,y_train)\n",
        "kNN_model"
      ],
      "execution_count": 23,
      "outputs": [
        {
          "output_type": "execute_result",
          "data": {
            "text/plain": [
              "KNeighborsClassifier(algorithm='auto', leaf_size=30, metric='minkowski',\n",
              "                     metric_params=None, n_jobs=None, n_neighbors=7, p=2,\n",
              "                     weights='uniform')"
            ]
          },
          "metadata": {
            "tags": []
          },
          "execution_count": 23
        }
      ]
    },
    {
      "cell_type": "markdown",
      "metadata": {
        "id": "AsY1xxts6wBU",
        "colab_type": "text"
      },
      "source": [
        "**Decision Tree**"
      ]
    },
    {
      "cell_type": "code",
      "metadata": {
        "id": "TdK1IekY6jDm",
        "colab_type": "code",
        "colab": {
          "base_uri": "https://localhost:8080/",
          "height": 119
        },
        "outputId": "adc3f0e3-d28c-4cdc-a576-9fcaf79e72eb"
      },
      "source": [
        "#Building the model\n",
        "from sklearn.tree import DecisionTreeClassifier\n",
        "dTree = DecisionTreeClassifier(criterion=\"entropy\", max_depth = 4)\n",
        "dTree.fit(x_train,y_train)\n",
        "dTree"
      ],
      "execution_count": 24,
      "outputs": [
        {
          "output_type": "execute_result",
          "data": {
            "text/plain": [
              "DecisionTreeClassifier(ccp_alpha=0.0, class_weight=None, criterion='entropy',\n",
              "                       max_depth=4, max_features=None, max_leaf_nodes=None,\n",
              "                       min_impurity_decrease=0.0, min_impurity_split=None,\n",
              "                       min_samples_leaf=1, min_samples_split=2,\n",
              "                       min_weight_fraction_leaf=0.0, presort='deprecated',\n",
              "                       random_state=None, splitter='best')"
            ]
          },
          "metadata": {
            "tags": []
          },
          "execution_count": 24
        }
      ]
    },
    {
      "cell_type": "code",
      "metadata": {
        "id": "pM7Lbk_o7GaP",
        "colab_type": "code",
        "colab": {
          "base_uri": "https://localhost:8080/",
          "height": 187
        },
        "outputId": "671f28b9-0a5a-4ef7-cf5e-39f814d18539"
      },
      "source": [
        "#predicting\n",
        "pred = dTree.predict(x_test)\n",
        "print(pred)"
      ],
      "execution_count": 25,
      "outputs": [
        {
          "output_type": "stream",
          "text": [
            "['PAIDOFF' 'PAIDOFF' 'PAIDOFF' 'PAIDOFF' 'PAIDOFF' 'PAIDOFF' 'PAIDOFF'\n",
            " 'PAIDOFF' 'PAIDOFF' 'PAIDOFF' 'PAIDOFF' 'PAIDOFF' 'PAIDOFF' 'PAIDOFF'\n",
            " 'PAIDOFF' 'PAIDOFF' 'PAIDOFF' 'PAIDOFF' 'PAIDOFF' 'PAIDOFF' 'PAIDOFF'\n",
            " 'PAIDOFF' 'COLLECTION' 'PAIDOFF' 'PAIDOFF' 'PAIDOFF' 'PAIDOFF' 'PAIDOFF'\n",
            " 'COLLECTION' 'PAIDOFF' 'PAIDOFF' 'PAIDOFF' 'PAIDOFF' 'PAIDOFF' 'PAIDOFF'\n",
            " 'PAIDOFF' 'PAIDOFF' 'PAIDOFF' 'PAIDOFF' 'PAIDOFF' 'PAIDOFF' 'PAIDOFF'\n",
            " 'PAIDOFF' 'PAIDOFF' 'PAIDOFF' 'PAIDOFF' 'PAIDOFF' 'PAIDOFF' 'PAIDOFF'\n",
            " 'PAIDOFF' 'PAIDOFF' 'PAIDOFF' 'PAIDOFF' 'PAIDOFF' 'PAIDOFF' 'PAIDOFF'\n",
            " 'PAIDOFF' 'PAIDOFF' 'PAIDOFF' 'PAIDOFF' 'PAIDOFF' 'PAIDOFF' 'PAIDOFF'\n",
            " 'PAIDOFF' 'PAIDOFF' 'PAIDOFF' 'PAIDOFF' 'PAIDOFF' 'PAIDOFF' 'PAIDOFF']\n"
          ],
          "name": "stdout"
        }
      ]
    },
    {
      "cell_type": "markdown",
      "metadata": {
        "id": "xESae3547gyn",
        "colab_type": "text"
      },
      "source": [
        "**Support Vector Machine**"
      ]
    },
    {
      "cell_type": "code",
      "metadata": {
        "id": "Ud_oLt557bnM",
        "colab_type": "code",
        "colab": {
          "base_uri": "https://localhost:8080/",
          "height": 85
        },
        "outputId": "917151ea-4b88-4185-96fa-36798b25b461"
      },
      "source": [
        "#building the model\n",
        "from sklearn import svm\n",
        "svm_model = svm.SVC()\n",
        "svm_model.fit(x_train, y_train)"
      ],
      "execution_count": 26,
      "outputs": [
        {
          "output_type": "execute_result",
          "data": {
            "text/plain": [
              "SVC(C=1.0, break_ties=False, cache_size=200, class_weight=None, coef0=0.0,\n",
              "    decision_function_shape='ovr', degree=3, gamma='scale', kernel='rbf',\n",
              "    max_iter=-1, probability=False, random_state=None, shrinking=True,\n",
              "    tol=0.001, verbose=False)"
            ]
          },
          "metadata": {
            "tags": []
          },
          "execution_count": 26
        }
      ]
    },
    {
      "cell_type": "code",
      "metadata": {
        "id": "BlNyo56b7v5o",
        "colab_type": "code",
        "colab": {
          "base_uri": "https://localhost:8080/",
          "height": 187
        },
        "outputId": "97e1e223-b5f2-4d8f-d085-728e8da91185"
      },
      "source": [
        "#predicting\n",
        "predic = svm_model.predict(x_test)\n",
        "print(predic)"
      ],
      "execution_count": 27,
      "outputs": [
        {
          "output_type": "stream",
          "text": [
            "['PAIDOFF' 'PAIDOFF' 'PAIDOFF' 'PAIDOFF' 'PAIDOFF' 'PAIDOFF' 'PAIDOFF'\n",
            " 'PAIDOFF' 'PAIDOFF' 'PAIDOFF' 'PAIDOFF' 'PAIDOFF' 'PAIDOFF' 'PAIDOFF'\n",
            " 'PAIDOFF' 'PAIDOFF' 'PAIDOFF' 'PAIDOFF' 'PAIDOFF' 'PAIDOFF' 'PAIDOFF'\n",
            " 'PAIDOFF' 'PAIDOFF' 'PAIDOFF' 'PAIDOFF' 'PAIDOFF' 'PAIDOFF' 'PAIDOFF'\n",
            " 'PAIDOFF' 'PAIDOFF' 'PAIDOFF' 'PAIDOFF' 'PAIDOFF' 'PAIDOFF' 'PAIDOFF'\n",
            " 'PAIDOFF' 'PAIDOFF' 'PAIDOFF' 'PAIDOFF' 'PAIDOFF' 'PAIDOFF' 'PAIDOFF'\n",
            " 'PAIDOFF' 'PAIDOFF' 'PAIDOFF' 'PAIDOFF' 'PAIDOFF' 'PAIDOFF' 'PAIDOFF'\n",
            " 'PAIDOFF' 'PAIDOFF' 'PAIDOFF' 'PAIDOFF' 'PAIDOFF' 'PAIDOFF' 'PAIDOFF'\n",
            " 'PAIDOFF' 'PAIDOFF' 'PAIDOFF' 'PAIDOFF' 'PAIDOFF' 'PAIDOFF' 'PAIDOFF'\n",
            " 'PAIDOFF' 'PAIDOFF' 'PAIDOFF' 'PAIDOFF' 'PAIDOFF' 'PAIDOFF' 'PAIDOFF']\n"
          ],
          "name": "stdout"
        }
      ]
    },
    {
      "cell_type": "markdown",
      "metadata": {
        "id": "Czqvzg8-8FYz",
        "colab_type": "text"
      },
      "source": [
        "**Logistic Regression**"
      ]
    },
    {
      "cell_type": "code",
      "metadata": {
        "id": "TPjHrij07_L3",
        "colab_type": "code",
        "colab": {}
      },
      "source": [
        "#Building the model\n",
        "from sklearn.linear_model import LogisticRegression\n",
        "lr_model = LogisticRegression(C=0.01).fit(x_train,y_train)"
      ],
      "execution_count": 28,
      "outputs": []
    },
    {
      "cell_type": "code",
      "metadata": {
        "id": "ftEiUTir8Tm2",
        "colab_type": "code",
        "colab": {
          "base_uri": "https://localhost:8080/",
          "height": 187
        },
        "outputId": "14dabfe8-ce0d-4dca-c83a-eff378d3cb72"
      },
      "source": [
        "#predicting\n",
        "pr = lr_model.predict(x_test)\n",
        "print(pr)"
      ],
      "execution_count": 29,
      "outputs": [
        {
          "output_type": "stream",
          "text": [
            "['PAIDOFF' 'PAIDOFF' 'PAIDOFF' 'PAIDOFF' 'PAIDOFF' 'PAIDOFF' 'PAIDOFF'\n",
            " 'PAIDOFF' 'PAIDOFF' 'PAIDOFF' 'PAIDOFF' 'PAIDOFF' 'PAIDOFF' 'PAIDOFF'\n",
            " 'PAIDOFF' 'PAIDOFF' 'PAIDOFF' 'PAIDOFF' 'PAIDOFF' 'PAIDOFF' 'PAIDOFF'\n",
            " 'PAIDOFF' 'PAIDOFF' 'PAIDOFF' 'PAIDOFF' 'PAIDOFF' 'PAIDOFF' 'PAIDOFF'\n",
            " 'PAIDOFF' 'PAIDOFF' 'PAIDOFF' 'PAIDOFF' 'PAIDOFF' 'PAIDOFF' 'PAIDOFF'\n",
            " 'PAIDOFF' 'PAIDOFF' 'PAIDOFF' 'PAIDOFF' 'PAIDOFF' 'PAIDOFF' 'PAIDOFF'\n",
            " 'PAIDOFF' 'PAIDOFF' 'PAIDOFF' 'PAIDOFF' 'PAIDOFF' 'PAIDOFF' 'PAIDOFF'\n",
            " 'PAIDOFF' 'PAIDOFF' 'PAIDOFF' 'PAIDOFF' 'PAIDOFF' 'PAIDOFF' 'PAIDOFF'\n",
            " 'PAIDOFF' 'PAIDOFF' 'PAIDOFF' 'PAIDOFF' 'PAIDOFF' 'PAIDOFF' 'PAIDOFF'\n",
            " 'PAIDOFF' 'PAIDOFF' 'PAIDOFF' 'PAIDOFF' 'PAIDOFF' 'PAIDOFF' 'PAIDOFF']\n"
          ],
          "name": "stdout"
        }
      ]
    },
    {
      "cell_type": "markdown",
      "metadata": {
        "id": "2xUuflre8kBf",
        "colab_type": "text"
      },
      "source": [
        "**Model Evaluation using Test set**"
      ]
    },
    {
      "cell_type": "code",
      "metadata": {
        "id": "ovbZkKqF8bWs",
        "colab_type": "code",
        "colab": {}
      },
      "source": [
        "from sklearn.metrics import jaccard_similarity_score\n",
        "from sklearn.metrics import f1_score\n",
        "from sklearn.metrics import log_loss"
      ],
      "execution_count": 30,
      "outputs": []
    },
    {
      "cell_type": "markdown",
      "metadata": {
        "id": "JAV2NbqH8ugs",
        "colab_type": "text"
      },
      "source": [
        "Uploading test dataset"
      ]
    },
    {
      "cell_type": "code",
      "metadata": {
        "id": "YC61TlZo8pkf",
        "colab_type": "code",
        "colab": {
          "resources": {
            "http://localhost:8080/nbextensions/google.colab/files.js": {
              "data": "Ly8gQ29weXJpZ2h0IDIwMTcgR29vZ2xlIExMQwovLwovLyBMaWNlbnNlZCB1bmRlciB0aGUgQXBhY2hlIExpY2Vuc2UsIFZlcnNpb24gMi4wICh0aGUgIkxpY2Vuc2UiKTsKLy8geW91IG1heSBub3QgdXNlIHRoaXMgZmlsZSBleGNlcHQgaW4gY29tcGxpYW5jZSB3aXRoIHRoZSBMaWNlbnNlLgovLyBZb3UgbWF5IG9idGFpbiBhIGNvcHkgb2YgdGhlIExpY2Vuc2UgYXQKLy8KLy8gICAgICBodHRwOi8vd3d3LmFwYWNoZS5vcmcvbGljZW5zZXMvTElDRU5TRS0yLjAKLy8KLy8gVW5sZXNzIHJlcXVpcmVkIGJ5IGFwcGxpY2FibGUgbGF3IG9yIGFncmVlZCB0byBpbiB3cml0aW5nLCBzb2Z0d2FyZQovLyBkaXN0cmlidXRlZCB1bmRlciB0aGUgTGljZW5zZSBpcyBkaXN0cmlidXRlZCBvbiBhbiAiQVMgSVMiIEJBU0lTLAovLyBXSVRIT1VUIFdBUlJBTlRJRVMgT1IgQ09ORElUSU9OUyBPRiBBTlkgS0lORCwgZWl0aGVyIGV4cHJlc3Mgb3IgaW1wbGllZC4KLy8gU2VlIHRoZSBMaWNlbnNlIGZvciB0aGUgc3BlY2lmaWMgbGFuZ3VhZ2UgZ292ZXJuaW5nIHBlcm1pc3Npb25zIGFuZAovLyBsaW1pdGF0aW9ucyB1bmRlciB0aGUgTGljZW5zZS4KCi8qKgogKiBAZmlsZW92ZXJ2aWV3IEhlbHBlcnMgZm9yIGdvb2dsZS5jb2xhYiBQeXRob24gbW9kdWxlLgogKi8KKGZ1bmN0aW9uKHNjb3BlKSB7CmZ1bmN0aW9uIHNwYW4odGV4dCwgc3R5bGVBdHRyaWJ1dGVzID0ge30pIHsKICBjb25zdCBlbGVtZW50ID0gZG9jdW1lbnQuY3JlYXRlRWxlbWVudCgnc3BhbicpOwogIGVsZW1lbnQudGV4dENvbnRlbnQgPSB0ZXh0OwogIGZvciAoY29uc3Qga2V5IG9mIE9iamVjdC5rZXlzKHN0eWxlQXR0cmlidXRlcykpIHsKICAgIGVsZW1lbnQuc3R5bGVba2V5XSA9IHN0eWxlQXR0cmlidXRlc1trZXldOwogIH0KICByZXR1cm4gZWxlbWVudDsKfQoKLy8gTWF4IG51bWJlciBvZiBieXRlcyB3aGljaCB3aWxsIGJlIHVwbG9hZGVkIGF0IGEgdGltZS4KY29uc3QgTUFYX1BBWUxPQURfU0laRSA9IDEwMCAqIDEwMjQ7CgpmdW5jdGlvbiBfdXBsb2FkRmlsZXMoaW5wdXRJZCwgb3V0cHV0SWQpIHsKICBjb25zdCBzdGVwcyA9IHVwbG9hZEZpbGVzU3RlcChpbnB1dElkLCBvdXRwdXRJZCk7CiAgY29uc3Qgb3V0cHV0RWxlbWVudCA9IGRvY3VtZW50LmdldEVsZW1lbnRCeUlkKG91dHB1dElkKTsKICAvLyBDYWNoZSBzdGVwcyBvbiB0aGUgb3V0cHV0RWxlbWVudCB0byBtYWtlIGl0IGF2YWlsYWJsZSBmb3IgdGhlIG5leHQgY2FsbAogIC8vIHRvIHVwbG9hZEZpbGVzQ29udGludWUgZnJvbSBQeXRob24uCiAgb3V0cHV0RWxlbWVudC5zdGVwcyA9IHN0ZXBzOwoKICByZXR1cm4gX3VwbG9hZEZpbGVzQ29udGludWUob3V0cHV0SWQpOwp9CgovLyBUaGlzIGlzIHJvdWdobHkgYW4gYXN5bmMgZ2VuZXJhdG9yIChub3Qgc3VwcG9ydGVkIGluIHRoZSBicm93c2VyIHlldCksCi8vIHdoZXJlIHRoZXJlIGFyZSBtdWx0aXBsZSBhc3luY2hyb25vdXMgc3RlcHMgYW5kIHRoZSBQeXRob24gc2lkZSBpcyBnb2luZwovLyB0byBwb2xsIGZvciBjb21wbGV0aW9uIG9mIGVhY2ggc3RlcC4KLy8gVGhpcyB1c2VzIGEgUHJvbWlzZSB0byBibG9jayB0aGUgcHl0aG9uIHNpZGUgb24gY29tcGxldGlvbiBvZiBlYWNoIHN0ZXAsCi8vIHRoZW4gcGFzc2VzIHRoZSByZXN1bHQgb2YgdGhlIHByZXZpb3VzIHN0ZXAgYXMgdGhlIGlucHV0IHRvIHRoZSBuZXh0IHN0ZXAuCmZ1bmN0aW9uIF91cGxvYWRGaWxlc0NvbnRpbnVlKG91dHB1dElkKSB7CiAgY29uc3Qgb3V0cHV0RWxlbWVudCA9IGRvY3VtZW50LmdldEVsZW1lbnRCeUlkKG91dHB1dElkKTsKICBjb25zdCBzdGVwcyA9IG91dHB1dEVsZW1lbnQuc3RlcHM7CgogIGNvbnN0IG5leHQgPSBzdGVwcy5uZXh0KG91dHB1dEVsZW1lbnQubGFzdFByb21pc2VWYWx1ZSk7CiAgcmV0dXJuIFByb21pc2UucmVzb2x2ZShuZXh0LnZhbHVlLnByb21pc2UpLnRoZW4oKHZhbHVlKSA9PiB7CiAgICAvLyBDYWNoZSB0aGUgbGFzdCBwcm9taXNlIHZhbHVlIHRvIG1ha2UgaXQgYXZhaWxhYmxlIHRvIHRoZSBuZXh0CiAgICAvLyBzdGVwIG9mIHRoZSBnZW5lcmF0b3IuCiAgICBvdXRwdXRFbGVtZW50Lmxhc3RQcm9taXNlVmFsdWUgPSB2YWx1ZTsKICAgIHJldHVybiBuZXh0LnZhbHVlLnJlc3BvbnNlOwogIH0pOwp9CgovKioKICogR2VuZXJhdG9yIGZ1bmN0aW9uIHdoaWNoIGlzIGNhbGxlZCBiZXR3ZWVuIGVhY2ggYXN5bmMgc3RlcCBvZiB0aGUgdXBsb2FkCiAqIHByb2Nlc3MuCiAqIEBwYXJhbSB7c3RyaW5nfSBpbnB1dElkIEVsZW1lbnQgSUQgb2YgdGhlIGlucHV0IGZpbGUgcGlja2VyIGVsZW1lbnQuCiAqIEBwYXJhbSB7c3RyaW5nfSBvdXRwdXRJZCBFbGVtZW50IElEIG9mIHRoZSBvdXRwdXQgZGlzcGxheS4KICogQHJldHVybiB7IUl0ZXJhYmxlPCFPYmplY3Q+fSBJdGVyYWJsZSBvZiBuZXh0IHN0ZXBzLgogKi8KZnVuY3Rpb24qIHVwbG9hZEZpbGVzU3RlcChpbnB1dElkLCBvdXRwdXRJZCkgewogIGNvbnN0IGlucHV0RWxlbWVudCA9IGRvY3VtZW50LmdldEVsZW1lbnRCeUlkKGlucHV0SWQpOwogIGlucHV0RWxlbWVudC5kaXNhYmxlZCA9IGZhbHNlOwoKICBjb25zdCBvdXRwdXRFbGVtZW50ID0gZG9jdW1lbnQuZ2V0RWxlbWVudEJ5SWQob3V0cHV0SWQpOwogIG91dHB1dEVsZW1lbnQuaW5uZXJIVE1MID0gJyc7CgogIGNvbnN0IHBpY2tlZFByb21pc2UgPSBuZXcgUHJvbWlzZSgocmVzb2x2ZSkgPT4gewogICAgaW5wdXRFbGVtZW50LmFkZEV2ZW50TGlzdGVuZXIoJ2NoYW5nZScsIChlKSA9PiB7CiAgICAgIHJlc29sdmUoZS50YXJnZXQuZmlsZXMpOwogICAgfSk7CiAgfSk7CgogIGNvbnN0IGNhbmNlbCA9IGRvY3VtZW50LmNyZWF0ZUVsZW1lbnQoJ2J1dHRvbicpOwogIGlucHV0RWxlbWVudC5wYXJlbnRFbGVtZW50LmFwcGVuZENoaWxkKGNhbmNlbCk7CiAgY2FuY2VsLnRleHRDb250ZW50ID0gJ0NhbmNlbCB1cGxvYWQnOwogIGNvbnN0IGNhbmNlbFByb21pc2UgPSBuZXcgUHJvbWlzZSgocmVzb2x2ZSkgPT4gewogICAgY2FuY2VsLm9uY2xpY2sgPSAoKSA9PiB7CiAgICAgIHJlc29sdmUobnVsbCk7CiAgICB9OwogIH0pOwoKICAvLyBXYWl0IGZvciB0aGUgdXNlciB0byBwaWNrIHRoZSBmaWxlcy4KICBjb25zdCBmaWxlcyA9IHlpZWxkIHsKICAgIHByb21pc2U6IFByb21pc2UucmFjZShbcGlja2VkUHJvbWlzZSwgY2FuY2VsUHJvbWlzZV0pLAogICAgcmVzcG9uc2U6IHsKICAgICAgYWN0aW9uOiAnc3RhcnRpbmcnLAogICAgfQogIH07CgogIGNhbmNlbC5yZW1vdmUoKTsKCiAgLy8gRGlzYWJsZSB0aGUgaW5wdXQgZWxlbWVudCBzaW5jZSBmdXJ0aGVyIHBpY2tzIGFyZSBub3QgYWxsb3dlZC4KICBpbnB1dEVsZW1lbnQuZGlzYWJsZWQgPSB0cnVlOwoKICBpZiAoIWZpbGVzKSB7CiAgICByZXR1cm4gewogICAgICByZXNwb25zZTogewogICAgICAgIGFjdGlvbjogJ2NvbXBsZXRlJywKICAgICAgfQogICAgfTsKICB9CgogIGZvciAoY29uc3QgZmlsZSBvZiBmaWxlcykgewogICAgY29uc3QgbGkgPSBkb2N1bWVudC5jcmVhdGVFbGVtZW50KCdsaScpOwogICAgbGkuYXBwZW5kKHNwYW4oZmlsZS5uYW1lLCB7Zm9udFdlaWdodDogJ2JvbGQnfSkpOwogICAgbGkuYXBwZW5kKHNwYW4oCiAgICAgICAgYCgke2ZpbGUudHlwZSB8fCAnbi9hJ30pIC0gJHtmaWxlLnNpemV9IGJ5dGVzLCBgICsKICAgICAgICBgbGFzdCBtb2RpZmllZDogJHsKICAgICAgICAgICAgZmlsZS5sYXN0TW9kaWZpZWREYXRlID8gZmlsZS5sYXN0TW9kaWZpZWREYXRlLnRvTG9jYWxlRGF0ZVN0cmluZygpIDoKICAgICAgICAgICAgICAgICAgICAgICAgICAgICAgICAgICAgJ24vYSd9IC0gYCkpOwogICAgY29uc3QgcGVyY2VudCA9IHNwYW4oJzAlIGRvbmUnKTsKICAgIGxpLmFwcGVuZENoaWxkKHBlcmNlbnQpOwoKICAgIG91dHB1dEVsZW1lbnQuYXBwZW5kQ2hpbGQobGkpOwoKICAgIGNvbnN0IGZpbGVEYXRhUHJvbWlzZSA9IG5ldyBQcm9taXNlKChyZXNvbHZlKSA9PiB7CiAgICAgIGNvbnN0IHJlYWRlciA9IG5ldyBGaWxlUmVhZGVyKCk7CiAgICAgIHJlYWRlci5vbmxvYWQgPSAoZSkgPT4gewogICAgICAgIHJlc29sdmUoZS50YXJnZXQucmVzdWx0KTsKICAgICAgfTsKICAgICAgcmVhZGVyLnJlYWRBc0FycmF5QnVmZmVyKGZpbGUpOwogICAgfSk7CiAgICAvLyBXYWl0IGZvciB0aGUgZGF0YSB0byBiZSByZWFkeS4KICAgIGxldCBmaWxlRGF0YSA9IHlpZWxkIHsKICAgICAgcHJvbWlzZTogZmlsZURhdGFQcm9taXNlLAogICAgICByZXNwb25zZTogewogICAgICAgIGFjdGlvbjogJ2NvbnRpbnVlJywKICAgICAgfQogICAgfTsKCiAgICAvLyBVc2UgYSBjaHVua2VkIHNlbmRpbmcgdG8gYXZvaWQgbWVzc2FnZSBzaXplIGxpbWl0cy4gU2VlIGIvNjIxMTU2NjAuCiAgICBsZXQgcG9zaXRpb24gPSAwOwogICAgd2hpbGUgKHBvc2l0aW9uIDwgZmlsZURhdGEuYnl0ZUxlbmd0aCkgewogICAgICBjb25zdCBsZW5ndGggPSBNYXRoLm1pbihmaWxlRGF0YS5ieXRlTGVuZ3RoIC0gcG9zaXRpb24sIE1BWF9QQVlMT0FEX1NJWkUpOwogICAgICBjb25zdCBjaHVuayA9IG5ldyBVaW50OEFycmF5KGZpbGVEYXRhLCBwb3NpdGlvbiwgbGVuZ3RoKTsKICAgICAgcG9zaXRpb24gKz0gbGVuZ3RoOwoKICAgICAgY29uc3QgYmFzZTY0ID0gYnRvYShTdHJpbmcuZnJvbUNoYXJDb2RlLmFwcGx5KG51bGwsIGNodW5rKSk7CiAgICAgIHlpZWxkIHsKICAgICAgICByZXNwb25zZTogewogICAgICAgICAgYWN0aW9uOiAnYXBwZW5kJywKICAgICAgICAgIGZpbGU6IGZpbGUubmFtZSwKICAgICAgICAgIGRhdGE6IGJhc2U2NCwKICAgICAgICB9LAogICAgICB9OwogICAgICBwZXJjZW50LnRleHRDb250ZW50ID0KICAgICAgICAgIGAke01hdGgucm91bmQoKHBvc2l0aW9uIC8gZmlsZURhdGEuYnl0ZUxlbmd0aCkgKiAxMDApfSUgZG9uZWA7CiAgICB9CiAgfQoKICAvLyBBbGwgZG9uZS4KICB5aWVsZCB7CiAgICByZXNwb25zZTogewogICAgICBhY3Rpb246ICdjb21wbGV0ZScsCiAgICB9CiAgfTsKfQoKc2NvcGUuZ29vZ2xlID0gc2NvcGUuZ29vZ2xlIHx8IHt9OwpzY29wZS5nb29nbGUuY29sYWIgPSBzY29wZS5nb29nbGUuY29sYWIgfHwge307CnNjb3BlLmdvb2dsZS5jb2xhYi5fZmlsZXMgPSB7CiAgX3VwbG9hZEZpbGVzLAogIF91cGxvYWRGaWxlc0NvbnRpbnVlLAp9Owp9KShzZWxmKTsK",
              "ok": true,
              "headers": [
                [
                  "content-type",
                  "application/javascript"
                ]
              ],
              "status": 200,
              "status_text": ""
            }
          },
          "base_uri": "https://localhost:8080/",
          "height": 109
        },
        "outputId": "7690fc32-47b1-45c1-d5b1-1b7ee5b526fa"
      },
      "source": [
        "from google.colab import files\n",
        "files.upload()"
      ],
      "execution_count": 40,
      "outputs": [
        {
          "output_type": "display_data",
          "data": {
            "text/html": [
              "\n",
              "     <input type=\"file\" id=\"files-9d5af84b-8933-4fff-832e-546199bc6c41\" name=\"files[]\" multiple disabled\n",
              "        style=\"border:none\" />\n",
              "     <output id=\"result-9d5af84b-8933-4fff-832e-546199bc6c41\">\n",
              "      Upload widget is only available when the cell has been executed in the\n",
              "      current browser session. Please rerun this cell to enable.\n",
              "      </output>\n",
              "      <script src=\"/nbextensions/google.colab/files.js\"></script> "
            ],
            "text/plain": [
              "<IPython.core.display.HTML object>"
            ]
          },
          "metadata": {
            "tags": []
          }
        },
        {
          "output_type": "stream",
          "text": [
            "Saving loan_test.csv to loan_test (1).csv\n"
          ],
          "name": "stdout"
        },
        {
          "output_type": "execute_result",
          "data": {
            "text/plain": [
              "{'loan_test.csv': b',Unnamed: 0,loan_status,Principal,terms,effective_date,due_date,age,education,Gender\\n1,1,PAIDOFF,1000,30,9/8/2016,10/7/2016,50,Bechalor,female\\n5,5,PAIDOFF,300,7,9/9/2016,9/15/2016,35,Master or Above,male\\n21,21,PAIDOFF,1000,30,9/10/2016,10/9/2016,43,High School or Below,female\\n24,24,PAIDOFF,1000,30,9/10/2016,10/9/2016,26,college,male\\n35,35,PAIDOFF,800,15,9/11/2016,9/25/2016,29,Bechalor,male\\n37,37,PAIDOFF,700,15,9/11/2016,9/25/2016,33,High School or Below,male\\n38,38,PAIDOFF,1000,15,9/11/2016,9/25/2016,24,college,male\\n48,48,PAIDOFF,1000,30,9/11/2016,10/10/2016,32,Bechalor,male\\n50,50,PAIDOFF,800,15,9/11/2016,9/25/2016,27,college,female\\n61,61,PAIDOFF,1000,15,9/11/2016,9/25/2016,37,college,male\\n64,64,PAIDOFF,800,15,9/11/2016,9/25/2016,24,High School or Below,male\\n68,68,PAIDOFF,300,7,9/11/2016,9/17/2016,35,college,male\\n76,76,PAIDOFF,1000,30,9/11/2016,10/10/2016,31,Bechalor,male\\n78,78,PAIDOFF,1000,30,9/11/2016,10/10/2016,37,college,female\\n84,84,PAIDOFF,1000,30,9/11/2016,10/10/2016,37,High School or Below,female\\n85,85,PAIDOFF,1000,30,9/11/2016,11/9/2016,33,college,male\\n88,88,PAIDOFF,800,15,9/11/2016,9/25/2016,43,Bechalor,male\\n91,91,PAIDOFF,1000,7,9/11/2016,9/17/2016,32,Bechalor,female\\n96,96,PAIDOFF,1000,15,9/11/2016,9/25/2016,26,High School or Below,male\\n100,100,PAIDOFF,1000,7,9/11/2016,9/17/2016,29,High School or Below,male\\n105,105,PAIDOFF,1000,30,9/11/2016,10/10/2016,30,college,male\\n142,142,PAIDOFF,1000,7,9/11/2016,9/17/2016,27,High School or Below,male\\n147,147,PAIDOFF,300,7,9/12/2016,9/18/2016,37,Master or Above,male\\n150,150,PAIDOFF,1000,15,9/12/2016,10/26/2016,29,college,male\\n156,156,PAIDOFF,1000,15,9/12/2016,9/26/2016,26,Bechalor,male\\n167,167,PAIDOFF,800,30,9/12/2016,10/11/2016,28,college,male\\n169,169,PAIDOFF,1000,30,9/12/2016,10/11/2016,38,college,male\\n179,179,PAIDOFF,1000,30,9/12/2016,10/11/2016,46,college,male\\n186,186,PAIDOFF,1000,30,9/12/2016,10/11/2016,33,Bechalor,male\\n196,196,PAIDOFF,1000,30,9/12/2016,11/10/2016,29,college,male\\n199,199,PAIDOFF,1000,30,9/12/2016,10/11/2016,29,college,male\\n202,202,PAIDOFF,1000,15,9/12/2016,9/26/2016,36,High School or Below,male\\n222,222,PAIDOFF,1000,30,9/12/2016,11/10/2016,29,college,male\\n236,236,PAIDOFF,1000,30,9/12/2016,10/11/2016,30,college,male\\n239,239,PAIDOFF,1000,15,9/12/2016,9/26/2016,36,High School or Below,male\\n251,251,PAIDOFF,1000,30,9/13/2016,10/12/2016,29,college,male\\n252,252,PAIDOFF,1000,30,9/13/2016,10/12/2016,28,High School or Below,male\\n264,264,PAIDOFF,800,15,9/13/2016,9/27/2016,23,college,male\\n287,287,PAIDOFF,1000,30,9/14/2016,10/13/2016,38,High School or Below,female\\n295,295,PAIDOFF,1000,30,9/14/2016,10/13/2016,30,college,female\\n302,302,COLLECTION,1000,30,9/9/2016,10/8/2016,33,High School or Below,male\\n305,305,COLLECTION,1000,15,9/10/2016,9/24/2016,31,High School or Below,female\\n309,309,COLLECTION,800,15,9/10/2016,9/24/2016,41,college,male\\n310,310,COLLECTION,1000,30,9/10/2016,10/9/2016,30,college,male\\n311,311,COLLECTION,800,15,9/10/2016,9/24/2016,26,High School or Below,female\\n313,313,COLLECTION,1000,30,9/10/2016,10/9/2016,20,High School or Below,male\\n315,315,COLLECTION,1000,15,9/10/2016,10/9/2016,26,High School or Below,male\\n328,328,COLLECTION,1000,30,9/11/2016,10/10/2016,24,High School or Below,female\\n331,331,COLLECTION,800,15,9/11/2016,9/25/2016,27,college,male\\n348,348,COLLECTION,1000,30,9/11/2016,10/10/2016,32,High School or Below,male\\n349,349,COLLECTION,800,15,9/11/2016,9/25/2016,29,college,male\\n369,369,COLLECTION,1000,30,9/11/2016,10/10/2016,37,High School or Below,male\\n370,370,COLLECTION,800,15,9/11/2016,9/25/2016,36,High School or Below,male\\n396,396,COLLECTION,1000,30,9/12/2016,10/11/2016,33,High School or Below,male\\n'}"
            ]
          },
          "metadata": {
            "tags": []
          },
          "execution_count": 40
        }
      ]
    },
    {
      "cell_type": "code",
      "metadata": {
        "id": "o37QBAhE9LLU",
        "colab_type": "code",
        "colab": {
          "base_uri": "https://localhost:8080/",
          "height": 204
        },
        "outputId": "66fc0690-c79c-4989-dafc-73129b0f2921"
      },
      "source": [
        "#Read Dataset\n",
        "df_test = pd.read_csv('loan_test.csv')\n",
        "df_test.head()"
      ],
      "execution_count": 41,
      "outputs": [
        {
          "output_type": "execute_result",
          "data": {
            "text/html": [
              "<div>\n",
              "<style scoped>\n",
              "    .dataframe tbody tr th:only-of-type {\n",
              "        vertical-align: middle;\n",
              "    }\n",
              "\n",
              "    .dataframe tbody tr th {\n",
              "        vertical-align: top;\n",
              "    }\n",
              "\n",
              "    .dataframe thead th {\n",
              "        text-align: right;\n",
              "    }\n",
              "</style>\n",
              "<table border=\"1\" class=\"dataframe\">\n",
              "  <thead>\n",
              "    <tr style=\"text-align: right;\">\n",
              "      <th></th>\n",
              "      <th>Unnamed: 0</th>\n",
              "      <th>Unnamed: 0.1</th>\n",
              "      <th>loan_status</th>\n",
              "      <th>Principal</th>\n",
              "      <th>terms</th>\n",
              "      <th>effective_date</th>\n",
              "      <th>due_date</th>\n",
              "      <th>age</th>\n",
              "      <th>education</th>\n",
              "      <th>Gender</th>\n",
              "    </tr>\n",
              "  </thead>\n",
              "  <tbody>\n",
              "    <tr>\n",
              "      <th>0</th>\n",
              "      <td>1</td>\n",
              "      <td>1</td>\n",
              "      <td>PAIDOFF</td>\n",
              "      <td>1000</td>\n",
              "      <td>30</td>\n",
              "      <td>9/8/2016</td>\n",
              "      <td>10/7/2016</td>\n",
              "      <td>50</td>\n",
              "      <td>Bechalor</td>\n",
              "      <td>female</td>\n",
              "    </tr>\n",
              "    <tr>\n",
              "      <th>1</th>\n",
              "      <td>5</td>\n",
              "      <td>5</td>\n",
              "      <td>PAIDOFF</td>\n",
              "      <td>300</td>\n",
              "      <td>7</td>\n",
              "      <td>9/9/2016</td>\n",
              "      <td>9/15/2016</td>\n",
              "      <td>35</td>\n",
              "      <td>Master or Above</td>\n",
              "      <td>male</td>\n",
              "    </tr>\n",
              "    <tr>\n",
              "      <th>2</th>\n",
              "      <td>21</td>\n",
              "      <td>21</td>\n",
              "      <td>PAIDOFF</td>\n",
              "      <td>1000</td>\n",
              "      <td>30</td>\n",
              "      <td>9/10/2016</td>\n",
              "      <td>10/9/2016</td>\n",
              "      <td>43</td>\n",
              "      <td>High School or Below</td>\n",
              "      <td>female</td>\n",
              "    </tr>\n",
              "    <tr>\n",
              "      <th>3</th>\n",
              "      <td>24</td>\n",
              "      <td>24</td>\n",
              "      <td>PAIDOFF</td>\n",
              "      <td>1000</td>\n",
              "      <td>30</td>\n",
              "      <td>9/10/2016</td>\n",
              "      <td>10/9/2016</td>\n",
              "      <td>26</td>\n",
              "      <td>college</td>\n",
              "      <td>male</td>\n",
              "    </tr>\n",
              "    <tr>\n",
              "      <th>4</th>\n",
              "      <td>35</td>\n",
              "      <td>35</td>\n",
              "      <td>PAIDOFF</td>\n",
              "      <td>800</td>\n",
              "      <td>15</td>\n",
              "      <td>9/11/2016</td>\n",
              "      <td>9/25/2016</td>\n",
              "      <td>29</td>\n",
              "      <td>Bechalor</td>\n",
              "      <td>male</td>\n",
              "    </tr>\n",
              "  </tbody>\n",
              "</table>\n",
              "</div>"
            ],
            "text/plain": [
              "   Unnamed: 0  Unnamed: 0.1 loan_status  ...  age             education  Gender\n",
              "0           1             1     PAIDOFF  ...   50              Bechalor  female\n",
              "1           5             5     PAIDOFF  ...   35       Master or Above    male\n",
              "2          21            21     PAIDOFF  ...   43  High School or Below  female\n",
              "3          24            24     PAIDOFF  ...   26               college    male\n",
              "4          35            35     PAIDOFF  ...   29              Bechalor    male\n",
              "\n",
              "[5 rows x 10 columns]"
            ]
          },
          "metadata": {
            "tags": []
          },
          "execution_count": 41
        }
      ]
    },
    {
      "cell_type": "code",
      "metadata": {
        "id": "7_3eyOefCy0W",
        "colab_type": "code",
        "colab": {
          "base_uri": "https://localhost:8080/",
          "height": 34
        },
        "outputId": "3f61bca9-ac7b-4965-aea2-50ecb29381b8"
      },
      "source": [
        "df_test= df_test.drop([\"Unnamed: 0\", \"Unnamed: 0.1\"], axis=1)\n",
        "df_test.groupby(['Gender'])['loan_status'].value_counts(normalize=True)\n",
        "df_test.shape"
      ],
      "execution_count": 42,
      "outputs": [
        {
          "output_type": "execute_result",
          "data": {
            "text/plain": [
              "(54, 8)"
            ]
          },
          "metadata": {
            "tags": []
          },
          "execution_count": 42
        }
      ]
    },
    {
      "cell_type": "code",
      "metadata": {
        "id": "fAprq2kB9cBM",
        "colab_type": "code",
        "colab": {
          "base_uri": "https://localhost:8080/",
          "height": 187
        },
        "outputId": "a507ac2d-0f8e-434b-b1c0-c6bb0256ed6e"
      },
      "source": [
        "#Preprocessing\n",
        "df_test['due_date'] = pd.to_datetime(df_test['due_date'])\n",
        "df_test['effective_date'] = pd.to_datetime(df_test['effective_date'])\n",
        "df_test['Gender'].replace(to_replace=['male','female'], value=[0,1],inplace=True)\n",
        "test_Feature = df_test[['Principal','terms','age','Gender']]\n",
        "test_Feature = pd.concat([test_Feature,pd.get_dummies(test_d['education'])], axis=1)\n",
        "test_Feature.drop(['Master or Above'], axis = 1,inplace=True)\n",
        "test_x = preprocessing.StandardScaler().fit(test_Feature).transform(test_Feature)\n",
        "test_x[0:5]"
      ],
      "execution_count": 43,
      "outputs": [
        {
          "output_type": "execute_result",
          "data": {
            "text/plain": [
              "array([[ 0.49362588,  0.92844966,  3.05981865,  1.97714211,  2.39791576,\n",
              "        -0.79772404, -0.86135677],\n",
              "       [-3.56269116, -1.70427745,  0.53336288, -0.50578054, -0.41702883,\n",
              "        -0.79772404, -0.86135677],\n",
              "       [ 0.49362588,  0.92844966,  1.88080596,  1.97714211, -0.41702883,\n",
              "         1.25356634, -0.86135677],\n",
              "       [ 0.49362588,  0.92844966, -0.98251057, -0.50578054, -0.41702883,\n",
              "        -0.79772404,  1.16095912],\n",
              "       [-0.66532184, -0.78854628, -0.47721942, -0.50578054,  2.39791576,\n",
              "        -0.79772404, -0.86135677]])"
            ]
          },
          "metadata": {
            "tags": []
          },
          "execution_count": 43
        }
      ]
    },
    {
      "cell_type": "code",
      "metadata": {
        "id": "Oo2l_FsoCBDQ",
        "colab_type": "code",
        "colab": {}
      },
      "source": [
        "test_y = test_d['loan_status'].values\n",
        "#test_X= test_X.reshape(1, -1)"
      ],
      "execution_count": 44,
      "outputs": []
    },
    {
      "cell_type": "code",
      "metadata": {
        "id": "z7Wz6AId-kFF",
        "colab_type": "code",
        "colab": {
          "base_uri": "https://localhost:8080/",
          "height": 105
        },
        "outputId": "91f48085-1915-486a-e6f9-96d4e77e7590"
      },
      "source": [
        "knn_pred = kNN_model.predict(test_x)\n",
        "print(\"KNN Jaccard index: %.2f\" % jaccard_similarity_score(test_y, knn_pred))\n",
        "print(\"KNN F1-score: %.2f\" % f1_score(test_y, knn_pred, average='weighted') )"
      ],
      "execution_count": 45,
      "outputs": [
        {
          "output_type": "stream",
          "text": [
            "KNN Jaccard index: 0.74\n",
            "KNN F1-score: 0.63\n"
          ],
          "name": "stdout"
        },
        {
          "output_type": "stream",
          "text": [
            "/usr/local/lib/python3.6/dist-packages/sklearn/metrics/_classification.py:664: FutureWarning: jaccard_similarity_score has been deprecated and replaced with jaccard_score. It will be removed in version 0.23. This implementation has surprising behavior for binary and multiclass classification tasks.\n",
            "  FutureWarning)\n"
          ],
          "name": "stderr"
        }
      ]
    },
    {
      "cell_type": "code",
      "metadata": {
        "id": "O8oazmdv_oAW",
        "colab_type": "code",
        "colab": {
          "base_uri": "https://localhost:8080/",
          "height": 105
        },
        "outputId": "71241321-be51-44c8-fe11-002a60b057f8"
      },
      "source": [
        "dTree_pred = dTree.predict(test_x)\n",
        "print(\"DT Jaccard index: %.2f\" % jaccard_similarity_score(test_y, dTree_pred))\n",
        "print(\"DT F1-score: %.2f\" % f1_score(test_y, dTree_pred, average='weighted') )"
      ],
      "execution_count": 46,
      "outputs": [
        {
          "output_type": "stream",
          "text": [
            "DT Jaccard index: 0.76\n",
            "DT F1-score: 0.67\n"
          ],
          "name": "stdout"
        },
        {
          "output_type": "stream",
          "text": [
            "/usr/local/lib/python3.6/dist-packages/sklearn/metrics/_classification.py:664: FutureWarning: jaccard_similarity_score has been deprecated and replaced with jaccard_score. It will be removed in version 0.23. This implementation has surprising behavior for binary and multiclass classification tasks.\n",
            "  FutureWarning)\n"
          ],
          "name": "stderr"
        }
      ]
    },
    {
      "cell_type": "code",
      "metadata": {
        "id": "JOPDHIkKBT0F",
        "colab_type": "code",
        "colab": {
          "base_uri": "https://localhost:8080/",
          "height": 105
        },
        "outputId": "67efeefc-5250-4ea9-b0f8-13ce5b21c2f3"
      },
      "source": [
        "svm_m = svm_model.predict(test_x)\n",
        "print(\"SVM Jaccard index: %.2f\" % jaccard_similarity_score(test_y, svm_m))\n",
        "print(\"SVM F1-score: %.2f\" % f1_score(test_y, svm_m, average='weighted') )"
      ],
      "execution_count": 48,
      "outputs": [
        {
          "output_type": "stream",
          "text": [
            "SVM Jaccard index: 0.74\n",
            "SVM F1-score: 0.63\n"
          ],
          "name": "stdout"
        },
        {
          "output_type": "stream",
          "text": [
            "/usr/local/lib/python3.6/dist-packages/sklearn/metrics/_classification.py:664: FutureWarning: jaccard_similarity_score has been deprecated and replaced with jaccard_score. It will be removed in version 0.23. This implementation has surprising behavior for binary and multiclass classification tasks.\n",
            "  FutureWarning)\n"
          ],
          "name": "stderr"
        }
      ]
    },
    {
      "cell_type": "code",
      "metadata": {
        "id": "IfeAZvMHhvZL",
        "colab_type": "code",
        "colab": {
          "base_uri": "https://localhost:8080/",
          "height": 122
        },
        "outputId": "4fdbc404-f723-4489-e166-20c2191ca207"
      },
      "source": [
        "lr_m = lr_model.predict(test_x)\n",
        "lr_model_prob = lr_model.predict_proba(test_x)\n",
        "print(\"LR Jaccard index: %.2f\" % jaccard_similarity_score(test_y, lr_m))\n",
        "print(\"LR F1-score: %.2f\" % f1_score(test_y, lr_m, average='weighted') )\n",
        "print(\"LR LogLoss: %.2f\" % log_loss(test_y, lr_model_prob))"
      ],
      "execution_count": 49,
      "outputs": [
        {
          "output_type": "stream",
          "text": [
            "LR Jaccard index: 0.74\n",
            "LR F1-score: 0.63\n",
            "LR LogLoss: 0.56\n"
          ],
          "name": "stdout"
        },
        {
          "output_type": "stream",
          "text": [
            "/usr/local/lib/python3.6/dist-packages/sklearn/metrics/_classification.py:664: FutureWarning: jaccard_similarity_score has been deprecated and replaced with jaccard_score. It will be removed in version 0.23. This implementation has surprising behavior for binary and multiclass classification tasks.\n",
            "  FutureWarning)\n"
          ],
          "name": "stderr"
        }
      ]
    },
    {
      "cell_type": "markdown",
      "metadata": {
        "id": "akG4eBOUkBXX",
        "colab_type": "text"
      },
      "source": [
        "**Result**"
      ]
    },
    {
      "cell_type": "code",
      "metadata": {
        "id": "fCxCIgvfjpbM",
        "colab_type": "code",
        "colab": {}
      },
      "source": [
        "#REPORT \n",
        "#                     Jaccard index    F1-score    LogLoass\n",
        "#k-Nearest Neighbour       0.74            0.63        NA\n",
        "\n",
        "#Decision Tree             0.76            0.67        NA \n",
        "\n",
        "#Support Vector Machine    0.74            0.63        NA\n",
        "\n",
        "#Logistic Regression       0.74            0.63        0.56"
      ],
      "execution_count": 53,
      "outputs": []
    },
    {
      "cell_type": "code",
      "metadata": {
        "id": "gFYFp_ndl_km",
        "colab_type": "code",
        "colab": {}
      },
      "source": [
        ""
      ],
      "execution_count": null,
      "outputs": []
    }
  ]
}